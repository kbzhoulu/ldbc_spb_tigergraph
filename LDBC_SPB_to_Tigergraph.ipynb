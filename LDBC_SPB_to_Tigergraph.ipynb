{
 "cells": [
  {
   "cell_type": "markdown",
   "id": "b5ac6172",
   "metadata": {},
   "source": [
    "# RDF2TG \n",
    "\n",
    "this notebook introduces how TigerGraph property graph database system works towards support RDF data using LDBC_SPB benchmark."
   ]
  },
  {
   "cell_type": "code",
   "execution_count": 1,
   "id": "2c6a33da",
   "metadata": {},
   "outputs": [],
   "source": [
    "# Python library\n",
    "import os\n",
    "from datetime import datetime\n",
    "# Graph stuff\n",
    "import rdflib \n",
    "from rdflib import Graph, OWL, RDF, RDFS\n",
    "# Tigergraph library\n",
    "import pyTigerGraph as tg\n",
    "# pandas process dataset\n",
    "import pandas as pd\n",
    "import csv"
   ]
  },
  {
   "cell_type": "code",
   "execution_count": 2,
   "id": "77b7a5a4",
   "metadata": {},
   "outputs": [],
   "source": [
    "##### Logging\n",
    "log_output = open(\"./data/output/rdf2tg_ldbc_spb.log\",\"a+\")\n",
    "\n",
    "def log(msg,tab_level=0,output=log_output):\n",
    "    timestamp = datetime.now()\n",
    "    tabs = \"\\t\" * (tab_level+1)\n",
    "    message = f\"{timestamp}{tabs}{msg}\"\n",
    "    print(message)\n",
    "    output.write(f\"{message}\\n\")"
   ]
  },
  {
   "cell_type": "code",
   "execution_count": 3,
   "id": "d15a9dc5",
   "metadata": {},
   "outputs": [],
   "source": [
    "#### Paths\n",
    "# The directory hosting all input data\n",
    "data_path = \"./data/input/\"\n",
    "# The directory hosting all output data\n",
    "output_path = \"./data/output/\""
   ]
  },
  {
   "cell_type": "markdown",
   "id": "85b9c753",
   "metadata": {},
   "source": [
    "## Download and preprocess data \n",
    "\n",
    "* you can run sparql queries below on your triple store via a sparql endpoint, e.g., installing ontotext graphdb on your local machine/server and run the sparql queries via the endpoint.\n",
    "\n",
    "* you can directly run the query using the triple store UI and download it directly.\n",
    "\n",
    "* you can also utilize rdflib python library to load the turtle file and run SPARQL queries to convert the ttl file to csv format.\n",
    "\n",
    "* for the convenience, we have downloaded the rdf dump and also converted it into two csv files: datatypeproperty.csv and objectproperty.csv, which can be directly mapped and loaded to TigerGraph database. The data files for the ldbc_spb dataset are too large to include in github repo.please download from https://drive.google.com/drive/folders/1FtHs0IK8oYsKY_MDl8RYcMTdKP2kCbx_?usp=sharing and save the data files in the ./data/input folder."
   ]
  },
  {
   "cell_type": "code",
   "execution_count": 4,
   "id": "f00c866b",
   "metadata": {},
   "outputs": [],
   "source": [
    "# g = Graph()\n",
    "\n",
    "# rdf_dump = os.path.join(data_path, \"ldbc-spb-32M.ttl\")\n",
    "\n",
    "# g.parse(rdf_dump, format=\"ttl\")\n",
    "\n",
    "# log(\"running sparql to get all triple with object properties\")\n",
    "\n",
    "# objectPropertyTriples = \"\"\"\n",
    "#     SELECT ?s ?p ?o (MD5(concat(str(?s), str(?p), str(?o))) AS ?pid)\n",
    "#     WHERE {\n",
    "#         ?s ?p ?o .\n",
    "#     filter (!isLiteral(?o)) .\n",
    "#     }    \n",
    "# \"\"\"\n",
    "\n",
    "# objectproperty = g.query(objectPropertyTriples)\n",
    "\n",
    "# log(\"running successfully\")\n",
    "\n",
    "# log(\"running sparql to get all triple with datatype property properties\")\n",
    "\n",
    "# datatypePropertyTriples = \"\"\"\n",
    "#     SELECT ?s ?p ?o (datatype(?o) as ?d) (lang(?o) as ?l) \n",
    "#     (MD5(concat(str(?s), str(?p), str(?o), lang(?o))) AS ?pid) \n",
    "#     (MD5(concat(str(?o), lang(?o))) AS ?vid)   \n",
    "#     WHERE {\n",
    "#         ?s ?p ?o .\n",
    "#     filter isLiteral(?o) .\n",
    "#     }    \n",
    "# \"\"\"\n",
    "\n",
    "# datatypeproperty = g.query(datatypePropertyTriples)\n",
    "\n",
    "# log(\"running successfully\")\n",
    "\n",
    "# datatype_file = os.path.join(data_path, \"datatypeproperty.csv\")\n",
    "# object_file = os.path.join(data_path, \"objectproperty.csv\")\n",
    "\n",
    "# with open(datatype_file, \"w\") as f:\n",
    "#     writer = csv.DictWriter(f, fieldnames=[str(v) for v in datatypeproperty.vars])\n",
    "#     writer.writeheader()\n",
    "#     for binding in datatypeproperty.bindings:\n",
    "#         writer.writerow({str(k): str(v) for k, v in binding.items()})\n",
    "        \n",
    "# with open(object_file, \"w\") as f1:\n",
    "#     writer = csv.DictWriter(f1, fieldnames=[str(v) for v in objectproperty.vars])\n",
    "#     writer.writeheader()\n",
    "#     for binding in objectproperty.bindings:\n",
    "#         writer.writerow({str(k): str(v) for k, v in binding.items()})"
   ]
  },
  {
   "cell_type": "markdown",
   "id": "545d25bb",
   "metadata": {},
   "source": [
    "## Connect to tigergraph cluster"
   ]
  },
  {
   "cell_type": "code",
   "execution_count": 5,
   "id": "1df123ef",
   "metadata": {},
   "outputs": [
    {
     "name": "stdout",
     "output_type": "stream",
     "text": [
      "2022-11-21 14:18:48.821147\tconnecting to graph cluster.\n",
      "2022-11-21 14:18:49.449086\tsuccessfully connect to cluster\n"
     ]
    }
   ],
   "source": [
    "#### Tigergraph Solution Connection\n",
    "log(\"connecting to graph cluster.\")\n",
    "\n",
    "# Connection parameters\n",
    "# Configure to your solution\n",
    "hostname = \"xxxxxxxxxxxxxxx\"\n",
    "username = \"xxxxxxx\"\n",
    "password = \"xxxxxxx\"\n",
    "\n",
    "conn = tg.TigerGraphConnection(host=hostname, username=username, password=password)\n",
    "\n",
    "log(\"successfully connect to cluster\")"
   ]
  },
  {
   "cell_type": "markdown",
   "id": "04d8ac78",
   "metadata": {},
   "source": [
    "### Create a graph\n",
    "\n",
    "Next, use the CREATE GRAPH command to create a graph named ldbc_spb."
   ]
  },
  {
   "cell_type": "code",
   "execution_count": 6,
   "id": "0643d9e8",
   "metadata": {},
   "outputs": [
    {
     "name": "stdout",
     "output_type": "stream",
     "text": [
      "2022-11-21 14:19:12.061495\tThe graph ldbc_spb is created.\n"
     ]
    }
   ],
   "source": [
    "results = conn.gsql(\n",
    "'''\n",
    "CREATE GRAPH ldbc_spb ()\n",
    "'''\n",
    ")\n",
    "\n",
    "log(results)"
   ]
  },
  {
   "cell_type": "markdown",
   "id": "62fac20f",
   "metadata": {},
   "source": [
    "### Connect to ldbc_spb graph"
   ]
  },
  {
   "cell_type": "code",
   "execution_count": 7,
   "id": "39d04255",
   "metadata": {},
   "outputs": [
    {
     "name": "stdout",
     "output_type": "stream",
     "text": [
      "2022-11-21 14:19:16.031006\tsuccessfully connect to graph ldbc_spb\n"
     ]
    }
   ],
   "source": [
    "conn.graphname=\"ldbc_spb\"\n",
    "\n",
    "conn.getToken(conn.createSecret())\n",
    "    \n",
    "log(\"successfully connect to graph ldbc_spb\")"
   ]
  },
  {
   "cell_type": "markdown",
   "id": "0ba50a3d",
   "metadata": {},
   "source": [
    "### Create vertices and edges"
   ]
  },
  {
   "cell_type": "code",
   "execution_count": 8,
   "id": "c1b643e4",
   "metadata": {
    "scrolled": true
   },
   "outputs": [
    {
     "name": "stdout",
     "output_type": "stream",
     "text": [
      "2022-11-21 14:19:16.047749\tcreating ldbc_spb schema in Tigergraph.\n",
      "2022-11-21 14:19:23.835249\tUsing graph 'ldbc_spb'\n",
      "Successfully created schema change jobs: [ldbc_spb_schema].\n",
      "\n",
      "Current graph version 0\n",
      "Trying to add vertex ClassInstance.\n",
      "Trying to add vertex ObjectPropertyInstance.\n",
      "Trying to add vertex DatatypePropertyInstance.\n",
      "Trying to add vertex ValueInstance.\n",
      "Trying to add edge hasDatatypePropertyInstance.\n",
      "Trying to add edge reverse_hasDatatypePropertyInstance.\n",
      "Trying to add edge hasObjectPropertyInstance.\n",
      "Trying to add edge reverse_hasObjectPropertyInstance.\n",
      "Trying to add edge hasObjectInstance.\n",
      "Trying to add edge reverse_hasObjectInstance.\n",
      "Trying to add edge hasValueInstance.\n",
      "Trying to add edge reverse_hasValueInstance.\n",
      "Kick off job ldbc_spb_schema\n",
      "\n",
      "Graph ldbc_spb update to new version 1\n",
      "The job ldbc_spb_schema completes in 6.869 seconds!\n"
     ]
    }
   ],
   "source": [
    "#### Create graph schema in tigergraph \n",
    "# create nodes and edges \n",
    "log(\"creating ldbc_spb schema in Tigergraph.\")\n",
    "\n",
    "results = conn.gsql(\n",
    "    '''\n",
    "    USE GRAPH ldbc_spb\n",
    "    \n",
    "    CREATE SCHEMA_CHANGE JOB ldbc_spb_schema FOR GRAPH ldbc_spb {\n",
    "        ADD VERTEX ClassInstance (primary_id id STRING, uri STRING);\n",
    "        ADD VERTEX ObjectPropertyInstance (primary_id id STRING, uri STRING);\n",
    "        ADD VERTEX DatatypePropertyInstance (primary_id id STRING, uri STRING);\n",
    "        ADD VERTEX ValueInstance (primary_id id STRING, value STRING, datatype STRING, langTag STRING);\n",
    "\n",
    "        ADD DIRECTED EDGE hasDatatypePropertyInstance (FROM ClassInstance, TO DatatypePropertyInstance) WITH REVERSE_EDGE=\"reverse_hasDatatypePropertyInstance\";\n",
    "        ADD DIRECTED EDGE hasObjectPropertyInstance (FROM ClassInstance, TO ObjectPropertyInstance) WITH REVERSE_EDGE=\"reverse_hasObjectPropertyInstance\";\n",
    "        ADD DIRECTED EDGE hasObjectInstance (FROM ObjectPropertyInstance, TO ClassInstance) WITH REVERSE_EDGE=\"reverse_hasObjectInstance\";\n",
    "        ADD DIRECTED EDGE hasValueInstance (FROM DatatypePropertyInstance, TO ValueInstance) WITH REVERSE_EDGE=\"reverse_hasValueInstance\";\n",
    "    }\n",
    "    \n",
    "    RUN SCHEMA_CHANGE JOB ldbc_spb_schema\n",
    "    '''\n",
    ")\n",
    "\n",
    "log(results)"
   ]
  },
  {
   "cell_type": "markdown",
   "id": "988185dd",
   "metadata": {},
   "source": [
    "### Create index on vertex and edge properties"
   ]
  },
  {
   "cell_type": "code",
   "execution_count": 9,
   "id": "e52eb2f0",
   "metadata": {},
   "outputs": [
    {
     "name": "stdout",
     "output_type": "stream",
     "text": [
      "2022-11-21 14:19:23.851811\tadding index in ldbc_spb schema in Tigergraph.\n",
      "2022-11-21 14:19:31.928730\tUsing graph 'ldbc_spb'\n",
      "Successfully created schema change jobs: [attribute_index1].\n",
      "\n",
      "Current graph version 1\n",
      "Kick off job attribute_index1\n",
      "\n",
      "Graph ldbc_spb update to new version 2\n",
      "The job attribute_index1 completes in 7.069 seconds!\n"
     ]
    }
   ],
   "source": [
    "log(\"adding index in ldbc_spb schema in Tigergraph.\")\n",
    "\n",
    "results = conn.gsql('''\n",
    "    USE GRAPH ldbc_spb\n",
    "\n",
    "    CREATE SCHEMA_CHANGE JOB attribute_index1 {\n",
    "        ALTER VERTEX ClassInstance ADD INDEX ClassInstance_uri_index ON (uri);\n",
    "        ALTER VERTEX ObjectPropertyInstance ADD INDEX ObjectPropertyInstance_uri_index ON (uri);\n",
    "        ALTER VERTEX DatatypePropertyInstance ADD INDEX DatatypePropertyInstance_uri_index ON (uri);\n",
    "        ALTER VERTEX ValueInstance ADD INDEX ValueInstance_value_index ON (value);\n",
    "        ALTER VERTEX ValueInstance ADD INDEX ValueInstance_datatype_index ON (datatype);\n",
    "        ALTER VERTEX ValueInstance ADD INDEX ValueInstance_langTag_index ON (langTag);\n",
    "    }\n",
    "    \n",
    "    RUN SCHEMA_CHANGE JOB attribute_index1\n",
    "    '''\n",
    ")\n",
    "\n",
    "log(results)"
   ]
  },
  {
   "cell_type": "markdown",
   "id": "6c1636e9",
   "metadata": {},
   "source": [
    "### Define loading data job to graph ldbc_spb"
   ]
  },
  {
   "cell_type": "code",
   "execution_count": 10,
   "id": "a02edb9e",
   "metadata": {
    "scrolled": false
   },
   "outputs": [
    {
     "name": "stdout",
     "output_type": "stream",
     "text": [
      "2022-11-21 14:19:31.945094\tMaping LDBC SPB data to Tigergraph schema.\n",
      "2022-11-21 14:19:34.177805\tUsing graph 'ldbc_spb'\n",
      "Successfully created loading jobs: [load_data].\n"
     ]
    }
   ],
   "source": [
    "#### Map data to the schema\n",
    "log(\"Maping LDBC SPB data to Tigergraph schema.\")\n",
    "\n",
    "results = conn.gsql('''\n",
    "    USE GRAPH ldbc_spb\n",
    "    \n",
    "    CREATE LOADING JOB load_data FOR GRAPH ldbc_spb {\n",
    "        DEFINE FILENAME ObjectProperty_file;\n",
    "        DEFINE FILENAME DatatypeProperty_file;\n",
    "        \n",
    "        LOAD ObjectProperty_file TO EDGE hasObjectPropertyInstance VALUES($0, $3) USING SEPARATOR=\"|\", EOL=\"\\n\", QUOTE=\"double\";\n",
    "        LOAD ObjectProperty_file TO EDGE hasObjectInstance VALUES($3, $2) USING SEPARATOR=\"|\", EOL=\"\\n\", QUOTE=\"double\";\n",
    "        LOAD ObjectProperty_file TO VERTEX ClassInstance VALUES($0, $0) USING SEPARATOR=\"|\", EOL=\"\\n\", QUOTE=\"double\";\n",
    "        LOAD ObjectProperty_file TO VERTEX ObjectPropertyInstance VALUES($3, $1) USING SEPARATOR=\"|\", EOL=\"\\n\", QUOTE=\"double\";\n",
    "        LOAD ObjectProperty_file TO VERTEX ClassInstance VALUES($2, $2) USING SEPARATOR=\"|\", EOL=\"\\n\", QUOTE=\"double\";\n",
    "\n",
    "        LOAD DatatypeProperty_file TO EDGE hasDatatypePropertyInstance VALUES($0, $5) USING SEPARATOR=\"|\", EOL=\"\\n\", QUOTE=\"double\";\n",
    "        LOAD DatatypeProperty_file TO EDGE hasValueInstance VALUES($5, $6) USING SEPARATOR=\"|\", EOL=\"\\n\", QUOTE=\"double\";\n",
    "        LOAD DatatypeProperty_file TO VERTEX ClassInstance VALUES($0, $0) USING SEPARATOR=\"|\", EOL=\"\\n\", QUOTE=\"double\";\n",
    "        LOAD DatatypeProperty_file TO VERTEX DatatypePropertyInstance VALUES($5, $1) USING SEPARATOR=\"|\", EOL=\"\\n\", QUOTE=\"double\";\n",
    "        LOAD DatatypeProperty_file TO VERTEX ValueInstance VALUES($6, $2, $3, $4) USING SEPARATOR=\"|\", EOL=\"\\n\", QUOTE=\"double\";\n",
    "    }\n",
    "    '''\n",
    ")\n",
    "\n",
    "log(results)"
   ]
  },
  {
   "cell_type": "markdown",
   "id": "d15a5b75",
   "metadata": {},
   "source": [
    "### Run the loading job with files\n",
    "\n",
    "since the data files are too large to load, we first split them into smaller chunks and upload them. "
   ]
  },
  {
   "cell_type": "code",
   "execution_count": 11,
   "id": "0998e5a0",
   "metadata": {},
   "outputs": [],
   "source": [
    "datatype_file = os.path.join(data_path, \"datatypeproperty.csv\")\n",
    "object_file = os.path.join(data_path, \"objectproperty.csv\")\n",
    "\n",
    "for i, chunk in enumerate(pd.read_csv(datatype_file, chunksize=600000, header=None, low_memory=False, sep=',', quotechar='\"', doublequote=True)):\n",
    "    chunk.to_csv(data_path + 'datatype_chunk{}.csv'.format(i), index=False, header=False, sep='|', quotechar='\"', doublequote=True)\n",
    "\n",
    "for i, chunk in enumerate(pd.read_csv(object_file, chunksize=600000, header=None, low_memory=False, sep=',', quotechar='\"', doublequote=True)):\n",
    "    chunk.to_csv(data_path + 'object_chunk{}.csv'.format(i), index=False, header=False, sep='|', quotechar='\"', doublequote=True)"
   ]
  },
  {
   "cell_type": "markdown",
   "id": "f596f606",
   "metadata": {},
   "source": [
    "### List all file chucks "
   ]
  },
  {
   "cell_type": "code",
   "execution_count": 12,
   "id": "ccd9fe2c",
   "metadata": {
    "scrolled": true
   },
   "outputs": [
    {
     "name": "stdout",
     "output_type": "stream",
     "text": [
      "./data/input/datatype_chunk15.csv\n",
      "./data/input/datatype_chunk14.csv\n",
      "./data/input/datatype_chunk16.csv\n",
      "./data/input/datatype_chunk17.csv\n",
      "./data/input/datatype_chunk13.csv\n",
      "./data/input/datatype_chunk12.csv\n",
      "./data/input/datatype_chunk10.csv\n",
      "./data/input/datatype_chunk11.csv\n",
      "./data/input/datatype_chunk4.csv\n",
      "./data/input/datatype_chunk5.csv\n",
      "./data/input/datatype_chunk7.csv\n",
      "./data/input/datatype_chunk6.csv\n",
      "./data/input/datatype_chunk2.csv\n",
      "./data/input/datatype_chunk3.csv\n",
      "./data/input/datatype_chunk1.csv\n",
      "./data/input/datatype_chunk0.csv\n",
      "./data/input/datatype_chunk8.csv\n",
      "./data/input/datatype_chunk9.csv\n",
      "./data/input/datatype_chunk20.csv\n",
      "./data/input/datatype_chunk21.csv\n",
      "./data/input/datatype_chunk23.csv\n",
      "./data/input/datatype_chunk22.csv\n",
      "./data/input/datatype_chunk19.csv\n",
      "./data/input/datatype_chunk24.csv\n",
      "./data/input/datatype_chunk18.csv\n",
      "./data/input/object_chunk11.csv\n",
      "./data/input/object_chunk5.csv\n",
      "./data/input/object_chunk4.csv\n",
      "./data/input/object_chunk10.csv\n",
      "./data/input/object_chunk12.csv\n",
      "./data/input/object_chunk6.csv\n",
      "./data/input/object_chunk7.csv\n",
      "./data/input/object_chunk13.csv\n",
      "./data/input/object_chunk17.csv\n",
      "./data/input/object_chunk3.csv\n",
      "./data/input/object_chunk2.csv\n",
      "./data/input/object_chunk16.csv\n",
      "./data/input/object_chunk28.csv\n",
      "./data/input/object_chunk14.csv\n",
      "./data/input/object_chunk0.csv\n",
      "./data/input/object_chunk1.csv\n",
      "./data/input/object_chunk15.csv\n",
      "./data/input/object_chunk24.csv\n",
      "./data/input/object_chunk18.csv\n",
      "./data/input/object_chunk19.csv\n",
      "./data/input/object_chunk25.csv\n",
      "./data/input/object_chunk27.csv\n",
      "./data/input/object_chunk26.csv\n",
      "./data/input/object_chunk22.csv\n",
      "./data/input/object_chunk23.csv\n",
      "./data/input/object_chunk21.csv\n",
      "./data/input/object_chunk9.csv\n",
      "./data/input/object_chunk8.csv\n",
      "./data/input/object_chunk20.csv\n"
     ]
    }
   ],
   "source": [
    "#### Load data to the graph\n",
    "\n",
    "datatype_file_list = []\n",
    "\n",
    "for root, dirs, files in os.walk(data_path):\n",
    "    for file in files:\n",
    "        if file.endswith(\".csv\") and \"datatype_chunk\" in file:\n",
    "            datatype_file_list.append(os.path.join(root, file))\n",
    "\n",
    "object_file_list = []\n",
    "\n",
    "for root, dirs, files in os.walk(data_path):\n",
    "    for file in files:\n",
    "        if file.endswith(\".csv\") and \"object_chunk\" in file:\n",
    "            object_file_list.append(os.path.join(root, file))\n",
    "\n",
    "for datatypeFile in datatype_file_list:\n",
    "    print (datatypeFile)\n",
    "    \n",
    "for objectFile in object_file_list:\n",
    "    print (objectFile)"
   ]
  },
  {
   "cell_type": "markdown",
   "id": "871aa681",
   "metadata": {},
   "source": [
    "### Upload object property files"
   ]
  },
  {
   "cell_type": "code",
   "execution_count": 13,
   "id": "e141cad8",
   "metadata": {},
   "outputs": [
    {
     "name": "stdout",
     "output_type": "stream",
     "text": [
      "2022-11-21 14:21:44.117977\tLoading ldbc spb data to Tigergraph schema.\n",
      "loading file ./data/input/object_chunk11.csv\n",
      "----------------------------------------------------------------------------------------------------\n",
      "2022-11-21 14:22:06.096903\t[{'sourceFileName': 'Online_POST', 'statistics': {'validLine': 600000, 'rejectLine': 0, 'failedConditionLine': 0, 'notEnoughToken': 0, 'invalidJson': 0, 'oversizeToken': 0, 'vertex': [{'typeName': 'ClassInstance', 'validObject': 600000, 'noIdFound': 0, 'invalidAttribute': 0, 'invalidVertexType': 0, 'invalidPrimaryId': 0, 'invalidSecondaryId': 0, 'incorrectFixedBinaryLength': 0}, {'typeName': 'ClassInstance', 'validObject': 600000, 'noIdFound': 0, 'invalidAttribute': 0, 'invalidVertexType': 0, 'invalidPrimaryId': 0, 'invalidSecondaryId': 0, 'incorrectFixedBinaryLength': 0}, {'typeName': 'ObjectPropertyInstance', 'validObject': 600000, 'noIdFound': 0, 'invalidAttribute': 0, 'invalidVertexType': 0, 'invalidPrimaryId': 0, 'invalidSecondaryId': 0, 'incorrectFixedBinaryLength': 0}], 'edge': [{'typeName': 'hasObjectPropertyInstance', 'validObject': 600000, 'noIdFound': 0, 'invalidAttribute': 0, 'invalidVertexType': 0, 'invalidPrimaryId': 0, 'invalidSecondaryId': 0, 'incorrectFixedBinaryLength': 0}, {'typeName': 'hasObjectInstance', 'validObject': 600000, 'noIdFound': 0, 'invalidAttribute': 0, 'invalidVertexType': 0, 'invalidPrimaryId': 0, 'invalidSecondaryId': 0, 'incorrectFixedBinaryLength': 0}], 'deleteVertex': [], 'deleteEdge': []}}]\n",
      "\n",
      "\n",
      "loading file ./data/input/object_chunk5.csv\n",
      "----------------------------------------------------------------------------------------------------\n",
      "2022-11-21 14:22:31.860669\t[{'sourceFileName': 'Online_POST', 'statistics': {'validLine': 600000, 'rejectLine': 0, 'failedConditionLine': 0, 'notEnoughToken': 0, 'invalidJson': 0, 'oversizeToken': 0, 'vertex': [{'typeName': 'ClassInstance', 'validObject': 600000, 'noIdFound': 0, 'invalidAttribute': 0, 'invalidVertexType': 0, 'invalidPrimaryId': 0, 'invalidSecondaryId': 0, 'incorrectFixedBinaryLength': 0}, {'typeName': 'ClassInstance', 'validObject': 600000, 'noIdFound': 0, 'invalidAttribute': 0, 'invalidVertexType': 0, 'invalidPrimaryId': 0, 'invalidSecondaryId': 0, 'incorrectFixedBinaryLength': 0}, {'typeName': 'ObjectPropertyInstance', 'validObject': 600000, 'noIdFound': 0, 'invalidAttribute': 0, 'invalidVertexType': 0, 'invalidPrimaryId': 0, 'invalidSecondaryId': 0, 'incorrectFixedBinaryLength': 0}], 'edge': [{'typeName': 'hasObjectPropertyInstance', 'validObject': 600000, 'noIdFound': 0, 'invalidAttribute': 0, 'invalidVertexType': 0, 'invalidPrimaryId': 0, 'invalidSecondaryId': 0, 'incorrectFixedBinaryLength': 0}, {'typeName': 'hasObjectInstance', 'validObject': 600000, 'noIdFound': 0, 'invalidAttribute': 0, 'invalidVertexType': 0, 'invalidPrimaryId': 0, 'invalidSecondaryId': 0, 'incorrectFixedBinaryLength': 0}], 'deleteVertex': [], 'deleteEdge': []}}]\n",
      "\n",
      "\n",
      "loading file ./data/input/object_chunk4.csv\n",
      "----------------------------------------------------------------------------------------------------\n",
      "2022-11-21 14:22:55.801723\t[{'sourceFileName': 'Online_POST', 'statistics': {'validLine': 600000, 'rejectLine': 0, 'failedConditionLine': 0, 'notEnoughToken': 0, 'invalidJson': 0, 'oversizeToken': 0, 'vertex': [{'typeName': 'ClassInstance', 'validObject': 600000, 'noIdFound': 0, 'invalidAttribute': 0, 'invalidVertexType': 0, 'invalidPrimaryId': 0, 'invalidSecondaryId': 0, 'incorrectFixedBinaryLength': 0}, {'typeName': 'ClassInstance', 'validObject': 600000, 'noIdFound': 0, 'invalidAttribute': 0, 'invalidVertexType': 0, 'invalidPrimaryId': 0, 'invalidSecondaryId': 0, 'incorrectFixedBinaryLength': 0}, {'typeName': 'ObjectPropertyInstance', 'validObject': 600000, 'noIdFound': 0, 'invalidAttribute': 0, 'invalidVertexType': 0, 'invalidPrimaryId': 0, 'invalidSecondaryId': 0, 'incorrectFixedBinaryLength': 0}], 'edge': [{'typeName': 'hasObjectPropertyInstance', 'validObject': 600000, 'noIdFound': 0, 'invalidAttribute': 0, 'invalidVertexType': 0, 'invalidPrimaryId': 0, 'invalidSecondaryId': 0, 'incorrectFixedBinaryLength': 0}, {'typeName': 'hasObjectInstance', 'validObject': 600000, 'noIdFound': 0, 'invalidAttribute': 0, 'invalidVertexType': 0, 'invalidPrimaryId': 0, 'invalidSecondaryId': 0, 'incorrectFixedBinaryLength': 0}], 'deleteVertex': [], 'deleteEdge': []}}]\n",
      "\n",
      "\n",
      "loading file ./data/input/object_chunk10.csv\n",
      "----------------------------------------------------------------------------------------------------\n",
      "2022-11-21 14:23:23.441569\t[{'sourceFileName': 'Online_POST', 'statistics': {'validLine': 600000, 'rejectLine': 0, 'failedConditionLine': 0, 'notEnoughToken': 0, 'invalidJson': 0, 'oversizeToken': 0, 'vertex': [{'typeName': 'ClassInstance', 'validObject': 600000, 'noIdFound': 0, 'invalidAttribute': 0, 'invalidVertexType': 0, 'invalidPrimaryId': 0, 'invalidSecondaryId': 0, 'incorrectFixedBinaryLength': 0}, {'typeName': 'ClassInstance', 'validObject': 600000, 'noIdFound': 0, 'invalidAttribute': 0, 'invalidVertexType': 0, 'invalidPrimaryId': 0, 'invalidSecondaryId': 0, 'incorrectFixedBinaryLength': 0}, {'typeName': 'ObjectPropertyInstance', 'validObject': 600000, 'noIdFound': 0, 'invalidAttribute': 0, 'invalidVertexType': 0, 'invalidPrimaryId': 0, 'invalidSecondaryId': 0, 'incorrectFixedBinaryLength': 0}], 'edge': [{'typeName': 'hasObjectPropertyInstance', 'validObject': 600000, 'noIdFound': 0, 'invalidAttribute': 0, 'invalidVertexType': 0, 'invalidPrimaryId': 0, 'invalidSecondaryId': 0, 'incorrectFixedBinaryLength': 0}, {'typeName': 'hasObjectInstance', 'validObject': 600000, 'noIdFound': 0, 'invalidAttribute': 0, 'invalidVertexType': 0, 'invalidPrimaryId': 0, 'invalidSecondaryId': 0, 'incorrectFixedBinaryLength': 0}], 'deleteVertex': [], 'deleteEdge': []}}]\n",
      "\n",
      "\n",
      "loading file ./data/input/object_chunk12.csv\n",
      "----------------------------------------------------------------------------------------------------\n",
      "2022-11-21 14:23:49.886734\t[{'sourceFileName': 'Online_POST', 'statistics': {'validLine': 600000, 'rejectLine': 0, 'failedConditionLine': 0, 'notEnoughToken': 0, 'invalidJson': 0, 'oversizeToken': 0, 'vertex': [{'typeName': 'ClassInstance', 'validObject': 600000, 'noIdFound': 0, 'invalidAttribute': 0, 'invalidVertexType': 0, 'invalidPrimaryId': 0, 'invalidSecondaryId': 0, 'incorrectFixedBinaryLength': 0}, {'typeName': 'ClassInstance', 'validObject': 600000, 'noIdFound': 0, 'invalidAttribute': 0, 'invalidVertexType': 0, 'invalidPrimaryId': 0, 'invalidSecondaryId': 0, 'incorrectFixedBinaryLength': 0}, {'typeName': 'ObjectPropertyInstance', 'validObject': 600000, 'noIdFound': 0, 'invalidAttribute': 0, 'invalidVertexType': 0, 'invalidPrimaryId': 0, 'invalidSecondaryId': 0, 'incorrectFixedBinaryLength': 0}], 'edge': [{'typeName': 'hasObjectPropertyInstance', 'validObject': 600000, 'noIdFound': 0, 'invalidAttribute': 0, 'invalidVertexType': 0, 'invalidPrimaryId': 0, 'invalidSecondaryId': 0, 'incorrectFixedBinaryLength': 0}, {'typeName': 'hasObjectInstance', 'validObject': 600000, 'noIdFound': 0, 'invalidAttribute': 0, 'invalidVertexType': 0, 'invalidPrimaryId': 0, 'invalidSecondaryId': 0, 'incorrectFixedBinaryLength': 0}], 'deleteVertex': [], 'deleteEdge': []}}]\n",
      "\n",
      "\n",
      "loading file ./data/input/object_chunk6.csv\n",
      "----------------------------------------------------------------------------------------------------\n",
      "2022-11-21 14:24:11.696214\t[{'sourceFileName': 'Online_POST', 'statistics': {'validLine': 600000, 'rejectLine': 0, 'failedConditionLine': 0, 'notEnoughToken': 0, 'invalidJson': 0, 'oversizeToken': 0, 'vertex': [{'typeName': 'ClassInstance', 'validObject': 600000, 'noIdFound': 0, 'invalidAttribute': 0, 'invalidVertexType': 0, 'invalidPrimaryId': 0, 'invalidSecondaryId': 0, 'incorrectFixedBinaryLength': 0}, {'typeName': 'ClassInstance', 'validObject': 600000, 'noIdFound': 0, 'invalidAttribute': 0, 'invalidVertexType': 0, 'invalidPrimaryId': 0, 'invalidSecondaryId': 0, 'incorrectFixedBinaryLength': 0}, {'typeName': 'ObjectPropertyInstance', 'validObject': 600000, 'noIdFound': 0, 'invalidAttribute': 0, 'invalidVertexType': 0, 'invalidPrimaryId': 0, 'invalidSecondaryId': 0, 'incorrectFixedBinaryLength': 0}], 'edge': [{'typeName': 'hasObjectPropertyInstance', 'validObject': 600000, 'noIdFound': 0, 'invalidAttribute': 0, 'invalidVertexType': 0, 'invalidPrimaryId': 0, 'invalidSecondaryId': 0, 'incorrectFixedBinaryLength': 0}, {'typeName': 'hasObjectInstance', 'validObject': 600000, 'noIdFound': 0, 'invalidAttribute': 0, 'invalidVertexType': 0, 'invalidPrimaryId': 0, 'invalidSecondaryId': 0, 'incorrectFixedBinaryLength': 0}], 'deleteVertex': [], 'deleteEdge': []}}]\n",
      "\n",
      "\n",
      "loading file ./data/input/object_chunk7.csv\n",
      "----------------------------------------------------------------------------------------------------\n"
     ]
    },
    {
     "name": "stdout",
     "output_type": "stream",
     "text": [
      "2022-11-21 14:24:36.176545\t[{'sourceFileName': 'Online_POST', 'statistics': {'validLine': 600000, 'rejectLine': 0, 'failedConditionLine': 0, 'notEnoughToken': 0, 'invalidJson': 0, 'oversizeToken': 0, 'vertex': [{'typeName': 'ClassInstance', 'validObject': 600000, 'noIdFound': 0, 'invalidAttribute': 0, 'invalidVertexType': 0, 'invalidPrimaryId': 0, 'invalidSecondaryId': 0, 'incorrectFixedBinaryLength': 0}, {'typeName': 'ClassInstance', 'validObject': 600000, 'noIdFound': 0, 'invalidAttribute': 0, 'invalidVertexType': 0, 'invalidPrimaryId': 0, 'invalidSecondaryId': 0, 'incorrectFixedBinaryLength': 0}, {'typeName': 'ObjectPropertyInstance', 'validObject': 600000, 'noIdFound': 0, 'invalidAttribute': 0, 'invalidVertexType': 0, 'invalidPrimaryId': 0, 'invalidSecondaryId': 0, 'incorrectFixedBinaryLength': 0}], 'edge': [{'typeName': 'hasObjectPropertyInstance', 'validObject': 600000, 'noIdFound': 0, 'invalidAttribute': 0, 'invalidVertexType': 0, 'invalidPrimaryId': 0, 'invalidSecondaryId': 0, 'incorrectFixedBinaryLength': 0}, {'typeName': 'hasObjectInstance', 'validObject': 600000, 'noIdFound': 0, 'invalidAttribute': 0, 'invalidVertexType': 0, 'invalidPrimaryId': 0, 'invalidSecondaryId': 0, 'incorrectFixedBinaryLength': 0}], 'deleteVertex': [], 'deleteEdge': []}}]\n",
      "\n",
      "\n",
      "loading file ./data/input/object_chunk13.csv\n",
      "----------------------------------------------------------------------------------------------------\n",
      "2022-11-21 14:25:03.102888\t[{'sourceFileName': 'Online_POST', 'statistics': {'validLine': 600000, 'rejectLine': 0, 'failedConditionLine': 0, 'notEnoughToken': 0, 'invalidJson': 0, 'oversizeToken': 0, 'vertex': [{'typeName': 'ClassInstance', 'validObject': 600000, 'noIdFound': 0, 'invalidAttribute': 0, 'invalidVertexType': 0, 'invalidPrimaryId': 0, 'invalidSecondaryId': 0, 'incorrectFixedBinaryLength': 0}, {'typeName': 'ClassInstance', 'validObject': 600000, 'noIdFound': 0, 'invalidAttribute': 0, 'invalidVertexType': 0, 'invalidPrimaryId': 0, 'invalidSecondaryId': 0, 'incorrectFixedBinaryLength': 0}, {'typeName': 'ObjectPropertyInstance', 'validObject': 600000, 'noIdFound': 0, 'invalidAttribute': 0, 'invalidVertexType': 0, 'invalidPrimaryId': 0, 'invalidSecondaryId': 0, 'incorrectFixedBinaryLength': 0}], 'edge': [{'typeName': 'hasObjectPropertyInstance', 'validObject': 600000, 'noIdFound': 0, 'invalidAttribute': 0, 'invalidVertexType': 0, 'invalidPrimaryId': 0, 'invalidSecondaryId': 0, 'incorrectFixedBinaryLength': 0}, {'typeName': 'hasObjectInstance', 'validObject': 600000, 'noIdFound': 0, 'invalidAttribute': 0, 'invalidVertexType': 0, 'invalidPrimaryId': 0, 'invalidSecondaryId': 0, 'incorrectFixedBinaryLength': 0}], 'deleteVertex': [], 'deleteEdge': []}}]\n",
      "\n",
      "\n",
      "loading file ./data/input/object_chunk17.csv\n",
      "----------------------------------------------------------------------------------------------------\n",
      "2022-11-21 14:25:34.225797\t[{'sourceFileName': 'Online_POST', 'statistics': {'validLine': 600000, 'rejectLine': 0, 'failedConditionLine': 0, 'notEnoughToken': 0, 'invalidJson': 0, 'oversizeToken': 0, 'vertex': [{'typeName': 'ClassInstance', 'validObject': 600000, 'noIdFound': 0, 'invalidAttribute': 0, 'invalidVertexType': 0, 'invalidPrimaryId': 0, 'invalidSecondaryId': 0, 'incorrectFixedBinaryLength': 0}, {'typeName': 'ClassInstance', 'validObject': 600000, 'noIdFound': 0, 'invalidAttribute': 0, 'invalidVertexType': 0, 'invalidPrimaryId': 0, 'invalidSecondaryId': 0, 'incorrectFixedBinaryLength': 0}, {'typeName': 'ObjectPropertyInstance', 'validObject': 600000, 'noIdFound': 0, 'invalidAttribute': 0, 'invalidVertexType': 0, 'invalidPrimaryId': 0, 'invalidSecondaryId': 0, 'incorrectFixedBinaryLength': 0}], 'edge': [{'typeName': 'hasObjectPropertyInstance', 'validObject': 600000, 'noIdFound': 0, 'invalidAttribute': 0, 'invalidVertexType': 0, 'invalidPrimaryId': 0, 'invalidSecondaryId': 0, 'incorrectFixedBinaryLength': 0}, {'typeName': 'hasObjectInstance', 'validObject': 600000, 'noIdFound': 0, 'invalidAttribute': 0, 'invalidVertexType': 0, 'invalidPrimaryId': 0, 'invalidSecondaryId': 0, 'incorrectFixedBinaryLength': 0}], 'deleteVertex': [], 'deleteEdge': []}}]\n",
      "\n",
      "\n",
      "loading file ./data/input/object_chunk3.csv\n",
      "----------------------------------------------------------------------------------------------------\n",
      "2022-11-21 14:26:00.850824\t[{'sourceFileName': 'Online_POST', 'statistics': {'validLine': 600000, 'rejectLine': 0, 'failedConditionLine': 0, 'notEnoughToken': 0, 'invalidJson': 0, 'oversizeToken': 0, 'vertex': [{'typeName': 'ClassInstance', 'validObject': 600000, 'noIdFound': 0, 'invalidAttribute': 0, 'invalidVertexType': 0, 'invalidPrimaryId': 0, 'invalidSecondaryId': 0, 'incorrectFixedBinaryLength': 0}, {'typeName': 'ClassInstance', 'validObject': 600000, 'noIdFound': 0, 'invalidAttribute': 0, 'invalidVertexType': 0, 'invalidPrimaryId': 0, 'invalidSecondaryId': 0, 'incorrectFixedBinaryLength': 0}, {'typeName': 'ObjectPropertyInstance', 'validObject': 600000, 'noIdFound': 0, 'invalidAttribute': 0, 'invalidVertexType': 0, 'invalidPrimaryId': 0, 'invalidSecondaryId': 0, 'incorrectFixedBinaryLength': 0}], 'edge': [{'typeName': 'hasObjectPropertyInstance', 'validObject': 600000, 'noIdFound': 0, 'invalidAttribute': 0, 'invalidVertexType': 0, 'invalidPrimaryId': 0, 'invalidSecondaryId': 0, 'incorrectFixedBinaryLength': 0}, {'typeName': 'hasObjectInstance', 'validObject': 600000, 'noIdFound': 0, 'invalidAttribute': 0, 'invalidVertexType': 0, 'invalidPrimaryId': 0, 'invalidSecondaryId': 0, 'incorrectFixedBinaryLength': 0}], 'deleteVertex': [], 'deleteEdge': []}}]\n",
      "\n",
      "\n",
      "loading file ./data/input/object_chunk2.csv\n",
      "----------------------------------------------------------------------------------------------------\n",
      "2022-11-21 14:26:26.562447\t[{'sourceFileName': 'Online_POST', 'statistics': {'validLine': 600000, 'rejectLine': 0, 'failedConditionLine': 0, 'notEnoughToken': 0, 'invalidJson': 0, 'oversizeToken': 0, 'vertex': [{'typeName': 'ClassInstance', 'validObject': 600000, 'noIdFound': 0, 'invalidAttribute': 0, 'invalidVertexType': 0, 'invalidPrimaryId': 0, 'invalidSecondaryId': 0, 'incorrectFixedBinaryLength': 0}, {'typeName': 'ClassInstance', 'validObject': 600000, 'noIdFound': 0, 'invalidAttribute': 0, 'invalidVertexType': 0, 'invalidPrimaryId': 0, 'invalidSecondaryId': 0, 'incorrectFixedBinaryLength': 0}, {'typeName': 'ObjectPropertyInstance', 'validObject': 600000, 'noIdFound': 0, 'invalidAttribute': 0, 'invalidVertexType': 0, 'invalidPrimaryId': 0, 'invalidSecondaryId': 0, 'incorrectFixedBinaryLength': 0}], 'edge': [{'typeName': 'hasObjectPropertyInstance', 'validObject': 600000, 'noIdFound': 0, 'invalidAttribute': 0, 'invalidVertexType': 0, 'invalidPrimaryId': 0, 'invalidSecondaryId': 0, 'incorrectFixedBinaryLength': 0}, {'typeName': 'hasObjectInstance', 'validObject': 600000, 'noIdFound': 0, 'invalidAttribute': 0, 'invalidVertexType': 0, 'invalidPrimaryId': 0, 'invalidSecondaryId': 0, 'incorrectFixedBinaryLength': 0}], 'deleteVertex': [], 'deleteEdge': []}}]\n",
      "\n",
      "\n",
      "loading file ./data/input/object_chunk16.csv\n",
      "----------------------------------------------------------------------------------------------------\n",
      "2022-11-21 14:26:56.365579\t[{'sourceFileName': 'Online_POST', 'statistics': {'validLine': 600000, 'rejectLine': 0, 'failedConditionLine': 0, 'notEnoughToken': 0, 'invalidJson': 0, 'oversizeToken': 0, 'vertex': [{'typeName': 'ClassInstance', 'validObject': 600000, 'noIdFound': 0, 'invalidAttribute': 0, 'invalidVertexType': 0, 'invalidPrimaryId': 0, 'invalidSecondaryId': 0, 'incorrectFixedBinaryLength': 0}, {'typeName': 'ClassInstance', 'validObject': 600000, 'noIdFound': 0, 'invalidAttribute': 0, 'invalidVertexType': 0, 'invalidPrimaryId': 0, 'invalidSecondaryId': 0, 'incorrectFixedBinaryLength': 0}, {'typeName': 'ObjectPropertyInstance', 'validObject': 599878, 'noIdFound': 122, 'invalidAttribute': 0, 'invalidVertexType': 0, 'invalidPrimaryId': 0, 'invalidSecondaryId': 0, 'incorrectFixedBinaryLength': 0}], 'edge': [{'typeName': 'hasObjectPropertyInstance', 'validObject': 599878, 'noIdFound': 122, 'invalidAttribute': 0, 'invalidVertexType': 0, 'invalidPrimaryId': 0, 'invalidSecondaryId': 0, 'incorrectFixedBinaryLength': 0}, {'typeName': 'hasObjectInstance', 'validObject': 599878, 'noIdFound': 122, 'invalidAttribute': 0, 'invalidVertexType': 0, 'invalidPrimaryId': 0, 'invalidSecondaryId': 0, 'incorrectFixedBinaryLength': 0}], 'deleteVertex': [], 'deleteEdge': []}}]\n",
      "\n",
      "\n",
      "loading file ./data/input/object_chunk28.csv\n",
      "----------------------------------------------------------------------------------------------------\n"
     ]
    },
    {
     "name": "stdout",
     "output_type": "stream",
     "text": [
      "2022-11-21 14:27:04.504331\t[{'sourceFileName': 'Online_POST', 'statistics': {'validLine': 155379, 'rejectLine': 0, 'failedConditionLine': 0, 'notEnoughToken': 0, 'invalidJson': 0, 'oversizeToken': 0, 'vertex': [{'typeName': 'ClassInstance', 'validObject': 155379, 'noIdFound': 0, 'invalidAttribute': 0, 'invalidVertexType': 0, 'invalidPrimaryId': 0, 'invalidSecondaryId': 0, 'incorrectFixedBinaryLength': 0}, {'typeName': 'ClassInstance', 'validObject': 155379, 'noIdFound': 0, 'invalidAttribute': 0, 'invalidVertexType': 0, 'invalidPrimaryId': 0, 'invalidSecondaryId': 0, 'incorrectFixedBinaryLength': 0}, {'typeName': 'ObjectPropertyInstance', 'validObject': 155291, 'noIdFound': 88, 'invalidAttribute': 0, 'invalidVertexType': 0, 'invalidPrimaryId': 0, 'invalidSecondaryId': 0, 'incorrectFixedBinaryLength': 0}], 'edge': [{'typeName': 'hasObjectPropertyInstance', 'validObject': 155291, 'noIdFound': 88, 'invalidAttribute': 0, 'invalidVertexType': 0, 'invalidPrimaryId': 0, 'invalidSecondaryId': 0, 'incorrectFixedBinaryLength': 0}, {'typeName': 'hasObjectInstance', 'validObject': 155291, 'noIdFound': 88, 'invalidAttribute': 0, 'invalidVertexType': 0, 'invalidPrimaryId': 0, 'invalidSecondaryId': 0, 'incorrectFixedBinaryLength': 0}], 'deleteVertex': [], 'deleteEdge': []}}]\n",
      "\n",
      "\n",
      "loading file ./data/input/object_chunk14.csv\n",
      "----------------------------------------------------------------------------------------------------\n",
      "2022-11-21 14:27:29.342453\t[{'sourceFileName': 'Online_POST', 'statistics': {'validLine': 600000, 'rejectLine': 0, 'failedConditionLine': 0, 'notEnoughToken': 0, 'invalidJson': 0, 'oversizeToken': 0, 'vertex': [{'typeName': 'ClassInstance', 'validObject': 600000, 'noIdFound': 0, 'invalidAttribute': 0, 'invalidVertexType': 0, 'invalidPrimaryId': 0, 'invalidSecondaryId': 0, 'incorrectFixedBinaryLength': 0}, {'typeName': 'ClassInstance', 'validObject': 600000, 'noIdFound': 0, 'invalidAttribute': 0, 'invalidVertexType': 0, 'invalidPrimaryId': 0, 'invalidSecondaryId': 0, 'incorrectFixedBinaryLength': 0}, {'typeName': 'ObjectPropertyInstance', 'validObject': 599910, 'noIdFound': 90, 'invalidAttribute': 0, 'invalidVertexType': 0, 'invalidPrimaryId': 0, 'invalidSecondaryId': 0, 'incorrectFixedBinaryLength': 0}], 'edge': [{'typeName': 'hasObjectPropertyInstance', 'validObject': 599910, 'noIdFound': 90, 'invalidAttribute': 0, 'invalidVertexType': 0, 'invalidPrimaryId': 0, 'invalidSecondaryId': 0, 'incorrectFixedBinaryLength': 0}, {'typeName': 'hasObjectInstance', 'validObject': 599910, 'noIdFound': 90, 'invalidAttribute': 0, 'invalidVertexType': 0, 'invalidPrimaryId': 0, 'invalidSecondaryId': 0, 'incorrectFixedBinaryLength': 0}], 'deleteVertex': [], 'deleteEdge': []}}]\n",
      "\n",
      "\n",
      "loading file ./data/input/object_chunk0.csv\n",
      "----------------------------------------------------------------------------------------------------\n",
      "2022-11-21 14:27:54.430137\t[{'sourceFileName': 'Online_POST', 'statistics': {'validLine': 600000, 'rejectLine': 0, 'failedConditionLine': 0, 'notEnoughToken': 0, 'invalidJson': 0, 'oversizeToken': 0, 'vertex': [{'typeName': 'ClassInstance', 'validObject': 600000, 'noIdFound': 0, 'invalidAttribute': 0, 'invalidVertexType': 0, 'invalidPrimaryId': 0, 'invalidSecondaryId': 0, 'incorrectFixedBinaryLength': 0}, {'typeName': 'ClassInstance', 'validObject': 600000, 'noIdFound': 0, 'invalidAttribute': 0, 'invalidVertexType': 0, 'invalidPrimaryId': 0, 'invalidSecondaryId': 0, 'incorrectFixedBinaryLength': 0}, {'typeName': 'ObjectPropertyInstance', 'validObject': 600000, 'noIdFound': 0, 'invalidAttribute': 0, 'invalidVertexType': 0, 'invalidPrimaryId': 0, 'invalidSecondaryId': 0, 'incorrectFixedBinaryLength': 0}], 'edge': [{'typeName': 'hasObjectPropertyInstance', 'validObject': 600000, 'noIdFound': 0, 'invalidAttribute': 0, 'invalidVertexType': 0, 'invalidPrimaryId': 0, 'invalidSecondaryId': 0, 'incorrectFixedBinaryLength': 0}, {'typeName': 'hasObjectInstance', 'validObject': 600000, 'noIdFound': 0, 'invalidAttribute': 0, 'invalidVertexType': 0, 'invalidPrimaryId': 0, 'invalidSecondaryId': 0, 'incorrectFixedBinaryLength': 0}], 'deleteVertex': [], 'deleteEdge': []}}]\n",
      "\n",
      "\n",
      "loading file ./data/input/object_chunk1.csv\n",
      "----------------------------------------------------------------------------------------------------\n",
      "2022-11-21 14:28:26.671236\t[{'sourceFileName': 'Online_POST', 'statistics': {'validLine': 600000, 'rejectLine': 0, 'failedConditionLine': 0, 'notEnoughToken': 0, 'invalidJson': 0, 'oversizeToken': 0, 'vertex': [{'typeName': 'ClassInstance', 'validObject': 600000, 'noIdFound': 0, 'invalidAttribute': 0, 'invalidVertexType': 0, 'invalidPrimaryId': 0, 'invalidSecondaryId': 0, 'incorrectFixedBinaryLength': 0}, {'typeName': 'ClassInstance', 'validObject': 600000, 'noIdFound': 0, 'invalidAttribute': 0, 'invalidVertexType': 0, 'invalidPrimaryId': 0, 'invalidSecondaryId': 0, 'incorrectFixedBinaryLength': 0}, {'typeName': 'ObjectPropertyInstance', 'validObject': 600000, 'noIdFound': 0, 'invalidAttribute': 0, 'invalidVertexType': 0, 'invalidPrimaryId': 0, 'invalidSecondaryId': 0, 'incorrectFixedBinaryLength': 0}], 'edge': [{'typeName': 'hasObjectPropertyInstance', 'validObject': 600000, 'noIdFound': 0, 'invalidAttribute': 0, 'invalidVertexType': 0, 'invalidPrimaryId': 0, 'invalidSecondaryId': 0, 'incorrectFixedBinaryLength': 0}, {'typeName': 'hasObjectInstance', 'validObject': 600000, 'noIdFound': 0, 'invalidAttribute': 0, 'invalidVertexType': 0, 'invalidPrimaryId': 0, 'invalidSecondaryId': 0, 'incorrectFixedBinaryLength': 0}], 'deleteVertex': [], 'deleteEdge': []}}]\n",
      "\n",
      "\n",
      "loading file ./data/input/object_chunk15.csv\n",
      "----------------------------------------------------------------------------------------------------\n",
      "2022-11-21 14:28:57.067314\t[{'sourceFileName': 'Online_POST', 'statistics': {'validLine': 600000, 'rejectLine': 0, 'failedConditionLine': 0, 'notEnoughToken': 0, 'invalidJson': 0, 'oversizeToken': 0, 'vertex': [{'typeName': 'ClassInstance', 'validObject': 600000, 'noIdFound': 0, 'invalidAttribute': 0, 'invalidVertexType': 0, 'invalidPrimaryId': 0, 'invalidSecondaryId': 0, 'incorrectFixedBinaryLength': 0}, {'typeName': 'ClassInstance', 'validObject': 600000, 'noIdFound': 0, 'invalidAttribute': 0, 'invalidVertexType': 0, 'invalidPrimaryId': 0, 'invalidSecondaryId': 0, 'incorrectFixedBinaryLength': 0}, {'typeName': 'ObjectPropertyInstance', 'validObject': 600000, 'noIdFound': 0, 'invalidAttribute': 0, 'invalidVertexType': 0, 'invalidPrimaryId': 0, 'invalidSecondaryId': 0, 'incorrectFixedBinaryLength': 0}], 'edge': [{'typeName': 'hasObjectPropertyInstance', 'validObject': 600000, 'noIdFound': 0, 'invalidAttribute': 0, 'invalidVertexType': 0, 'invalidPrimaryId': 0, 'invalidSecondaryId': 0, 'incorrectFixedBinaryLength': 0}, {'typeName': 'hasObjectInstance', 'validObject': 600000, 'noIdFound': 0, 'invalidAttribute': 0, 'invalidVertexType': 0, 'invalidPrimaryId': 0, 'invalidSecondaryId': 0, 'incorrectFixedBinaryLength': 0}], 'deleteVertex': [], 'deleteEdge': []}}]\n",
      "\n",
      "\n",
      "loading file ./data/input/object_chunk24.csv\n",
      "----------------------------------------------------------------------------------------------------\n",
      "2022-11-21 14:29:30.375178\t[{'sourceFileName': 'Online_POST', 'statistics': {'validLine': 600000, 'rejectLine': 0, 'failedConditionLine': 0, 'notEnoughToken': 0, 'invalidJson': 0, 'oversizeToken': 0, 'vertex': [{'typeName': 'ClassInstance', 'validObject': 600000, 'noIdFound': 0, 'invalidAttribute': 0, 'invalidVertexType': 0, 'invalidPrimaryId': 0, 'invalidSecondaryId': 0, 'incorrectFixedBinaryLength': 0}, {'typeName': 'ClassInstance', 'validObject': 600000, 'noIdFound': 0, 'invalidAttribute': 0, 'invalidVertexType': 0, 'invalidPrimaryId': 0, 'invalidSecondaryId': 0, 'incorrectFixedBinaryLength': 0}, {'typeName': 'ObjectPropertyInstance', 'validObject': 600000, 'noIdFound': 0, 'invalidAttribute': 0, 'invalidVertexType': 0, 'invalidPrimaryId': 0, 'invalidSecondaryId': 0, 'incorrectFixedBinaryLength': 0}], 'edge': [{'typeName': 'hasObjectPropertyInstance', 'validObject': 600000, 'noIdFound': 0, 'invalidAttribute': 0, 'invalidVertexType': 0, 'invalidPrimaryId': 0, 'invalidSecondaryId': 0, 'incorrectFixedBinaryLength': 0}, {'typeName': 'hasObjectInstance', 'validObject': 600000, 'noIdFound': 0, 'invalidAttribute': 0, 'invalidVertexType': 0, 'invalidPrimaryId': 0, 'invalidSecondaryId': 0, 'incorrectFixedBinaryLength': 0}], 'deleteVertex': [], 'deleteEdge': []}}]\n",
      "\n",
      "\n",
      "loading file ./data/input/object_chunk18.csv\n",
      "----------------------------------------------------------------------------------------------------\n"
     ]
    },
    {
     "name": "stdout",
     "output_type": "stream",
     "text": [
      "2022-11-21 14:30:01.611033\t[{'sourceFileName': 'Online_POST', 'statistics': {'validLine': 600000, 'rejectLine': 0, 'failedConditionLine': 0, 'notEnoughToken': 0, 'invalidJson': 0, 'oversizeToken': 0, 'vertex': [{'typeName': 'ClassInstance', 'validObject': 600000, 'noIdFound': 0, 'invalidAttribute': 0, 'invalidVertexType': 0, 'invalidPrimaryId': 0, 'invalidSecondaryId': 0, 'incorrectFixedBinaryLength': 0}, {'typeName': 'ClassInstance', 'validObject': 600000, 'noIdFound': 0, 'invalidAttribute': 0, 'invalidVertexType': 0, 'invalidPrimaryId': 0, 'invalidSecondaryId': 0, 'incorrectFixedBinaryLength': 0}, {'typeName': 'ObjectPropertyInstance', 'validObject': 600000, 'noIdFound': 0, 'invalidAttribute': 0, 'invalidVertexType': 0, 'invalidPrimaryId': 0, 'invalidSecondaryId': 0, 'incorrectFixedBinaryLength': 0}], 'edge': [{'typeName': 'hasObjectPropertyInstance', 'validObject': 600000, 'noIdFound': 0, 'invalidAttribute': 0, 'invalidVertexType': 0, 'invalidPrimaryId': 0, 'invalidSecondaryId': 0, 'incorrectFixedBinaryLength': 0}, {'typeName': 'hasObjectInstance', 'validObject': 600000, 'noIdFound': 0, 'invalidAttribute': 0, 'invalidVertexType': 0, 'invalidPrimaryId': 0, 'invalidSecondaryId': 0, 'incorrectFixedBinaryLength': 0}], 'deleteVertex': [], 'deleteEdge': []}}]\n",
      "\n",
      "\n",
      "loading file ./data/input/object_chunk19.csv\n",
      "----------------------------------------------------------------------------------------------------\n",
      "2022-11-21 14:30:26.927571\t[{'sourceFileName': 'Online_POST', 'statistics': {'validLine': 600000, 'rejectLine': 0, 'failedConditionLine': 0, 'notEnoughToken': 0, 'invalidJson': 0, 'oversizeToken': 0, 'vertex': [{'typeName': 'ClassInstance', 'validObject': 600000, 'noIdFound': 0, 'invalidAttribute': 0, 'invalidVertexType': 0, 'invalidPrimaryId': 0, 'invalidSecondaryId': 0, 'incorrectFixedBinaryLength': 0}, {'typeName': 'ClassInstance', 'validObject': 600000, 'noIdFound': 0, 'invalidAttribute': 0, 'invalidVertexType': 0, 'invalidPrimaryId': 0, 'invalidSecondaryId': 0, 'incorrectFixedBinaryLength': 0}, {'typeName': 'ObjectPropertyInstance', 'validObject': 600000, 'noIdFound': 0, 'invalidAttribute': 0, 'invalidVertexType': 0, 'invalidPrimaryId': 0, 'invalidSecondaryId': 0, 'incorrectFixedBinaryLength': 0}], 'edge': [{'typeName': 'hasObjectPropertyInstance', 'validObject': 600000, 'noIdFound': 0, 'invalidAttribute': 0, 'invalidVertexType': 0, 'invalidPrimaryId': 0, 'invalidSecondaryId': 0, 'incorrectFixedBinaryLength': 0}, {'typeName': 'hasObjectInstance', 'validObject': 600000, 'noIdFound': 0, 'invalidAttribute': 0, 'invalidVertexType': 0, 'invalidPrimaryId': 0, 'invalidSecondaryId': 0, 'incorrectFixedBinaryLength': 0}], 'deleteVertex': [], 'deleteEdge': []}}]\n",
      "\n",
      "\n",
      "loading file ./data/input/object_chunk25.csv\n",
      "----------------------------------------------------------------------------------------------------\n",
      "2022-11-21 14:30:52.588335\t[{'sourceFileName': 'Online_POST', 'statistics': {'validLine': 600000, 'rejectLine': 0, 'failedConditionLine': 0, 'notEnoughToken': 0, 'invalidJson': 0, 'oversizeToken': 0, 'vertex': [{'typeName': 'ClassInstance', 'validObject': 600000, 'noIdFound': 0, 'invalidAttribute': 0, 'invalidVertexType': 0, 'invalidPrimaryId': 0, 'invalidSecondaryId': 0, 'incorrectFixedBinaryLength': 0}, {'typeName': 'ClassInstance', 'validObject': 600000, 'noIdFound': 0, 'invalidAttribute': 0, 'invalidVertexType': 0, 'invalidPrimaryId': 0, 'invalidSecondaryId': 0, 'incorrectFixedBinaryLength': 0}, {'typeName': 'ObjectPropertyInstance', 'validObject': 600000, 'noIdFound': 0, 'invalidAttribute': 0, 'invalidVertexType': 0, 'invalidPrimaryId': 0, 'invalidSecondaryId': 0, 'incorrectFixedBinaryLength': 0}], 'edge': [{'typeName': 'hasObjectPropertyInstance', 'validObject': 600000, 'noIdFound': 0, 'invalidAttribute': 0, 'invalidVertexType': 0, 'invalidPrimaryId': 0, 'invalidSecondaryId': 0, 'incorrectFixedBinaryLength': 0}, {'typeName': 'hasObjectInstance', 'validObject': 600000, 'noIdFound': 0, 'invalidAttribute': 0, 'invalidVertexType': 0, 'invalidPrimaryId': 0, 'invalidSecondaryId': 0, 'incorrectFixedBinaryLength': 0}], 'deleteVertex': [], 'deleteEdge': []}}]\n",
      "\n",
      "\n",
      "loading file ./data/input/object_chunk27.csv\n",
      "----------------------------------------------------------------------------------------------------\n",
      "2022-11-21 14:31:24.597247\t[{'sourceFileName': 'Online_POST', 'statistics': {'validLine': 600000, 'rejectLine': 0, 'failedConditionLine': 0, 'notEnoughToken': 0, 'invalidJson': 0, 'oversizeToken': 0, 'vertex': [{'typeName': 'ClassInstance', 'validObject': 600000, 'noIdFound': 0, 'invalidAttribute': 0, 'invalidVertexType': 0, 'invalidPrimaryId': 0, 'invalidSecondaryId': 0, 'incorrectFixedBinaryLength': 0}, {'typeName': 'ClassInstance', 'validObject': 600000, 'noIdFound': 0, 'invalidAttribute': 0, 'invalidVertexType': 0, 'invalidPrimaryId': 0, 'invalidSecondaryId': 0, 'incorrectFixedBinaryLength': 0}, {'typeName': 'ObjectPropertyInstance', 'validObject': 600000, 'noIdFound': 0, 'invalidAttribute': 0, 'invalidVertexType': 0, 'invalidPrimaryId': 0, 'invalidSecondaryId': 0, 'incorrectFixedBinaryLength': 0}], 'edge': [{'typeName': 'hasObjectPropertyInstance', 'validObject': 600000, 'noIdFound': 0, 'invalidAttribute': 0, 'invalidVertexType': 0, 'invalidPrimaryId': 0, 'invalidSecondaryId': 0, 'incorrectFixedBinaryLength': 0}, {'typeName': 'hasObjectInstance', 'validObject': 600000, 'noIdFound': 0, 'invalidAttribute': 0, 'invalidVertexType': 0, 'invalidPrimaryId': 0, 'invalidSecondaryId': 0, 'incorrectFixedBinaryLength': 0}], 'deleteVertex': [], 'deleteEdge': []}}]\n",
      "\n",
      "\n",
      "loading file ./data/input/object_chunk26.csv\n",
      "----------------------------------------------------------------------------------------------------\n",
      "2022-11-21 14:31:54.809894\t[{'sourceFileName': 'Online_POST', 'statistics': {'validLine': 600000, 'rejectLine': 0, 'failedConditionLine': 0, 'notEnoughToken': 0, 'invalidJson': 0, 'oversizeToken': 0, 'vertex': [{'typeName': 'ClassInstance', 'validObject': 600000, 'noIdFound': 0, 'invalidAttribute': 0, 'invalidVertexType': 0, 'invalidPrimaryId': 0, 'invalidSecondaryId': 0, 'incorrectFixedBinaryLength': 0}, {'typeName': 'ClassInstance', 'validObject': 600000, 'noIdFound': 0, 'invalidAttribute': 0, 'invalidVertexType': 0, 'invalidPrimaryId': 0, 'invalidSecondaryId': 0, 'incorrectFixedBinaryLength': 0}, {'typeName': 'ObjectPropertyInstance', 'validObject': 600000, 'noIdFound': 0, 'invalidAttribute': 0, 'invalidVertexType': 0, 'invalidPrimaryId': 0, 'invalidSecondaryId': 0, 'incorrectFixedBinaryLength': 0}], 'edge': [{'typeName': 'hasObjectPropertyInstance', 'validObject': 600000, 'noIdFound': 0, 'invalidAttribute': 0, 'invalidVertexType': 0, 'invalidPrimaryId': 0, 'invalidSecondaryId': 0, 'incorrectFixedBinaryLength': 0}, {'typeName': 'hasObjectInstance', 'validObject': 600000, 'noIdFound': 0, 'invalidAttribute': 0, 'invalidVertexType': 0, 'invalidPrimaryId': 0, 'invalidSecondaryId': 0, 'incorrectFixedBinaryLength': 0}], 'deleteVertex': [], 'deleteEdge': []}}]\n",
      "\n",
      "\n",
      "loading file ./data/input/object_chunk22.csv\n",
      "----------------------------------------------------------------------------------------------------\n",
      "2022-11-21 14:32:21.165336\t[{'sourceFileName': 'Online_POST', 'statistics': {'validLine': 600000, 'rejectLine': 0, 'failedConditionLine': 0, 'notEnoughToken': 0, 'invalidJson': 0, 'oversizeToken': 0, 'vertex': [{'typeName': 'ClassInstance', 'validObject': 600000, 'noIdFound': 0, 'invalidAttribute': 0, 'invalidVertexType': 0, 'invalidPrimaryId': 0, 'invalidSecondaryId': 0, 'incorrectFixedBinaryLength': 0}, {'typeName': 'ClassInstance', 'validObject': 600000, 'noIdFound': 0, 'invalidAttribute': 0, 'invalidVertexType': 0, 'invalidPrimaryId': 0, 'invalidSecondaryId': 0, 'incorrectFixedBinaryLength': 0}, {'typeName': 'ObjectPropertyInstance', 'validObject': 600000, 'noIdFound': 0, 'invalidAttribute': 0, 'invalidVertexType': 0, 'invalidPrimaryId': 0, 'invalidSecondaryId': 0, 'incorrectFixedBinaryLength': 0}], 'edge': [{'typeName': 'hasObjectPropertyInstance', 'validObject': 600000, 'noIdFound': 0, 'invalidAttribute': 0, 'invalidVertexType': 0, 'invalidPrimaryId': 0, 'invalidSecondaryId': 0, 'incorrectFixedBinaryLength': 0}, {'typeName': 'hasObjectInstance', 'validObject': 600000, 'noIdFound': 0, 'invalidAttribute': 0, 'invalidVertexType': 0, 'invalidPrimaryId': 0, 'invalidSecondaryId': 0, 'incorrectFixedBinaryLength': 0}], 'deleteVertex': [], 'deleteEdge': []}}]\n",
      "\n",
      "\n",
      "loading file ./data/input/object_chunk23.csv\n",
      "----------------------------------------------------------------------------------------------------\n"
     ]
    },
    {
     "name": "stdout",
     "output_type": "stream",
     "text": [
      "2022-11-21 14:32:49.640759\t[{'sourceFileName': 'Online_POST', 'statistics': {'validLine': 600000, 'rejectLine': 0, 'failedConditionLine': 0, 'notEnoughToken': 0, 'invalidJson': 0, 'oversizeToken': 0, 'vertex': [{'typeName': 'ClassInstance', 'validObject': 600000, 'noIdFound': 0, 'invalidAttribute': 0, 'invalidVertexType': 0, 'invalidPrimaryId': 0, 'invalidSecondaryId': 0, 'incorrectFixedBinaryLength': 0}, {'typeName': 'ClassInstance', 'validObject': 600000, 'noIdFound': 0, 'invalidAttribute': 0, 'invalidVertexType': 0, 'invalidPrimaryId': 0, 'invalidSecondaryId': 0, 'incorrectFixedBinaryLength': 0}, {'typeName': 'ObjectPropertyInstance', 'validObject': 600000, 'noIdFound': 0, 'invalidAttribute': 0, 'invalidVertexType': 0, 'invalidPrimaryId': 0, 'invalidSecondaryId': 0, 'incorrectFixedBinaryLength': 0}], 'edge': [{'typeName': 'hasObjectPropertyInstance', 'validObject': 600000, 'noIdFound': 0, 'invalidAttribute': 0, 'invalidVertexType': 0, 'invalidPrimaryId': 0, 'invalidSecondaryId': 0, 'incorrectFixedBinaryLength': 0}, {'typeName': 'hasObjectInstance', 'validObject': 600000, 'noIdFound': 0, 'invalidAttribute': 0, 'invalidVertexType': 0, 'invalidPrimaryId': 0, 'invalidSecondaryId': 0, 'incorrectFixedBinaryLength': 0}], 'deleteVertex': [], 'deleteEdge': []}}]\n",
      "\n",
      "\n",
      "loading file ./data/input/object_chunk21.csv\n",
      "----------------------------------------------------------------------------------------------------\n",
      "2022-11-21 14:33:18.006733\t[{'sourceFileName': 'Online_POST', 'statistics': {'validLine': 600000, 'rejectLine': 0, 'failedConditionLine': 0, 'notEnoughToken': 0, 'invalidJson': 0, 'oversizeToken': 0, 'vertex': [{'typeName': 'ClassInstance', 'validObject': 600000, 'noIdFound': 0, 'invalidAttribute': 0, 'invalidVertexType': 0, 'invalidPrimaryId': 0, 'invalidSecondaryId': 0, 'incorrectFixedBinaryLength': 0}, {'typeName': 'ClassInstance', 'validObject': 600000, 'noIdFound': 0, 'invalidAttribute': 0, 'invalidVertexType': 0, 'invalidPrimaryId': 0, 'invalidSecondaryId': 0, 'incorrectFixedBinaryLength': 0}, {'typeName': 'ObjectPropertyInstance', 'validObject': 600000, 'noIdFound': 0, 'invalidAttribute': 0, 'invalidVertexType': 0, 'invalidPrimaryId': 0, 'invalidSecondaryId': 0, 'incorrectFixedBinaryLength': 0}], 'edge': [{'typeName': 'hasObjectPropertyInstance', 'validObject': 600000, 'noIdFound': 0, 'invalidAttribute': 0, 'invalidVertexType': 0, 'invalidPrimaryId': 0, 'invalidSecondaryId': 0, 'incorrectFixedBinaryLength': 0}, {'typeName': 'hasObjectInstance', 'validObject': 600000, 'noIdFound': 0, 'invalidAttribute': 0, 'invalidVertexType': 0, 'invalidPrimaryId': 0, 'invalidSecondaryId': 0, 'incorrectFixedBinaryLength': 0}], 'deleteVertex': [], 'deleteEdge': []}}]\n",
      "\n",
      "\n",
      "loading file ./data/input/object_chunk9.csv\n",
      "----------------------------------------------------------------------------------------------------\n",
      "2022-11-21 14:33:44.097683\t[{'sourceFileName': 'Online_POST', 'statistics': {'validLine': 600000, 'rejectLine': 0, 'failedConditionLine': 0, 'notEnoughToken': 0, 'invalidJson': 0, 'oversizeToken': 0, 'vertex': [{'typeName': 'ClassInstance', 'validObject': 600000, 'noIdFound': 0, 'invalidAttribute': 0, 'invalidVertexType': 0, 'invalidPrimaryId': 0, 'invalidSecondaryId': 0, 'incorrectFixedBinaryLength': 0}, {'typeName': 'ClassInstance', 'validObject': 600000, 'noIdFound': 0, 'invalidAttribute': 0, 'invalidVertexType': 0, 'invalidPrimaryId': 0, 'invalidSecondaryId': 0, 'incorrectFixedBinaryLength': 0}, {'typeName': 'ObjectPropertyInstance', 'validObject': 600000, 'noIdFound': 0, 'invalidAttribute': 0, 'invalidVertexType': 0, 'invalidPrimaryId': 0, 'invalidSecondaryId': 0, 'incorrectFixedBinaryLength': 0}], 'edge': [{'typeName': 'hasObjectPropertyInstance', 'validObject': 600000, 'noIdFound': 0, 'invalidAttribute': 0, 'invalidVertexType': 0, 'invalidPrimaryId': 0, 'invalidSecondaryId': 0, 'incorrectFixedBinaryLength': 0}, {'typeName': 'hasObjectInstance', 'validObject': 600000, 'noIdFound': 0, 'invalidAttribute': 0, 'invalidVertexType': 0, 'invalidPrimaryId': 0, 'invalidSecondaryId': 0, 'incorrectFixedBinaryLength': 0}], 'deleteVertex': [], 'deleteEdge': []}}]\n",
      "\n",
      "\n",
      "loading file ./data/input/object_chunk8.csv\n",
      "----------------------------------------------------------------------------------------------------\n",
      "2022-11-21 14:34:15.704582\t[{'sourceFileName': 'Online_POST', 'statistics': {'validLine': 600000, 'rejectLine': 0, 'failedConditionLine': 0, 'notEnoughToken': 0, 'invalidJson': 0, 'oversizeToken': 0, 'vertex': [{'typeName': 'ClassInstance', 'validObject': 600000, 'noIdFound': 0, 'invalidAttribute': 0, 'invalidVertexType': 0, 'invalidPrimaryId': 0, 'invalidSecondaryId': 0, 'incorrectFixedBinaryLength': 0}, {'typeName': 'ClassInstance', 'validObject': 600000, 'noIdFound': 0, 'invalidAttribute': 0, 'invalidVertexType': 0, 'invalidPrimaryId': 0, 'invalidSecondaryId': 0, 'incorrectFixedBinaryLength': 0}, {'typeName': 'ObjectPropertyInstance', 'validObject': 600000, 'noIdFound': 0, 'invalidAttribute': 0, 'invalidVertexType': 0, 'invalidPrimaryId': 0, 'invalidSecondaryId': 0, 'incorrectFixedBinaryLength': 0}], 'edge': [{'typeName': 'hasObjectPropertyInstance', 'validObject': 600000, 'noIdFound': 0, 'invalidAttribute': 0, 'invalidVertexType': 0, 'invalidPrimaryId': 0, 'invalidSecondaryId': 0, 'incorrectFixedBinaryLength': 0}, {'typeName': 'hasObjectInstance', 'validObject': 600000, 'noIdFound': 0, 'invalidAttribute': 0, 'invalidVertexType': 0, 'invalidPrimaryId': 0, 'invalidSecondaryId': 0, 'incorrectFixedBinaryLength': 0}], 'deleteVertex': [], 'deleteEdge': []}}]\n",
      "\n",
      "\n",
      "loading file ./data/input/object_chunk20.csv\n",
      "----------------------------------------------------------------------------------------------------\n",
      "2022-11-21 14:34:40.949046\t[{'sourceFileName': 'Online_POST', 'statistics': {'validLine': 600000, 'rejectLine': 0, 'failedConditionLine': 0, 'notEnoughToken': 0, 'invalidJson': 0, 'oversizeToken': 0, 'vertex': [{'typeName': 'ClassInstance', 'validObject': 600000, 'noIdFound': 0, 'invalidAttribute': 0, 'invalidVertexType': 0, 'invalidPrimaryId': 0, 'invalidSecondaryId': 0, 'incorrectFixedBinaryLength': 0}, {'typeName': 'ClassInstance', 'validObject': 600000, 'noIdFound': 0, 'invalidAttribute': 0, 'invalidVertexType': 0, 'invalidPrimaryId': 0, 'invalidSecondaryId': 0, 'incorrectFixedBinaryLength': 0}, {'typeName': 'ObjectPropertyInstance', 'validObject': 600000, 'noIdFound': 0, 'invalidAttribute': 0, 'invalidVertexType': 0, 'invalidPrimaryId': 0, 'invalidSecondaryId': 0, 'incorrectFixedBinaryLength': 0}], 'edge': [{'typeName': 'hasObjectPropertyInstance', 'validObject': 600000, 'noIdFound': 0, 'invalidAttribute': 0, 'invalidVertexType': 0, 'invalidPrimaryId': 0, 'invalidSecondaryId': 0, 'incorrectFixedBinaryLength': 0}, {'typeName': 'hasObjectInstance', 'validObject': 600000, 'noIdFound': 0, 'invalidAttribute': 0, 'invalidVertexType': 0, 'invalidPrimaryId': 0, 'invalidSecondaryId': 0, 'incorrectFixedBinaryLength': 0}], 'deleteVertex': [], 'deleteEdge': []}}]\n",
      "\n",
      "\n"
     ]
    }
   ],
   "source": [
    "log(\"Loading ldbc spb data to Tigergraph schema.\")\n",
    "\n",
    "for objectFile in object_file_list:\n",
    "    print (\"loading file\", objectFile)\n",
    "    print (\"-\"*100)\n",
    "    uploadOPFile = conn.runLoadingJobWithFile(filePath=objectFile, fileTag=\"ObjectProperty_file\", jobName=\"load_data\", sep=\"|\", eol=\"\\n\", timeout=0, sizeLimit=200000000)\n",
    "    log (uploadOPFile)\n",
    "    print (\"\\n\")"
   ]
  },
  {
   "cell_type": "markdown",
   "id": "3a9df5cf",
   "metadata": {},
   "source": [
    "### Upload datatype property files"
   ]
  },
  {
   "cell_type": "code",
   "execution_count": 14,
   "id": "d323c3b9",
   "metadata": {},
   "outputs": [
    {
     "name": "stdout",
     "output_type": "stream",
     "text": [
      "loading file ./data/input/datatype_chunk15.csv\n",
      "----------------------------------------------------------------------------------------------------\n",
      "2022-11-21 14:35:19.196607\t[{'sourceFileName': 'Online_POST', 'statistics': {'validLine': 599970, 'rejectLine': 0, 'failedConditionLine': 0, 'notEnoughToken': 65, 'invalidJson': 0, 'oversizeToken': 0, 'vertex': [{'typeName': 'ClassInstance', 'validObject': 599970, 'noIdFound': 0, 'invalidAttribute': 0, 'invalidVertexType': 0, 'invalidPrimaryId': 0, 'invalidSecondaryId': 0, 'incorrectFixedBinaryLength': 0}, {'typeName': 'DatatypePropertyInstance', 'validObject': 599970, 'noIdFound': 0, 'invalidAttribute': 0, 'invalidVertexType': 0, 'invalidPrimaryId': 0, 'invalidSecondaryId': 0, 'incorrectFixedBinaryLength': 0}, {'typeName': 'ValueInstance', 'validObject': 599969, 'noIdFound': 1, 'invalidAttribute': 0, 'invalidVertexType': 0, 'invalidPrimaryId': 0, 'invalidSecondaryId': 0, 'incorrectFixedBinaryLength': 0}], 'edge': [{'typeName': 'hasDatatypePropertyInstance', 'validObject': 599970, 'noIdFound': 0, 'invalidAttribute': 0, 'invalidVertexType': 0, 'invalidPrimaryId': 0, 'invalidSecondaryId': 0, 'incorrectFixedBinaryLength': 0}, {'typeName': 'hasValueInstance', 'validObject': 599969, 'noIdFound': 1, 'invalidAttribute': 0, 'invalidVertexType': 0, 'invalidPrimaryId': 0, 'invalidSecondaryId': 0, 'incorrectFixedBinaryLength': 0}], 'deleteVertex': [], 'deleteEdge': []}}]\n",
      "\n",
      "\n",
      "loading file ./data/input/datatype_chunk14.csv\n",
      "----------------------------------------------------------------------------------------------------\n",
      "2022-11-21 14:36:03.489536\t[{'sourceFileName': 'Online_POST', 'statistics': {'validLine': 599996, 'rejectLine': 0, 'failedConditionLine': 0, 'notEnoughToken': 21, 'invalidJson': 0, 'oversizeToken': 0, 'vertex': [{'typeName': 'ClassInstance', 'validObject': 599996, 'noIdFound': 0, 'invalidAttribute': 0, 'invalidVertexType': 0, 'invalidPrimaryId': 0, 'invalidSecondaryId': 0, 'incorrectFixedBinaryLength': 0}, {'typeName': 'DatatypePropertyInstance', 'validObject': 599996, 'noIdFound': 0, 'invalidAttribute': 0, 'invalidVertexType': 0, 'invalidPrimaryId': 0, 'invalidSecondaryId': 0, 'incorrectFixedBinaryLength': 0}, {'typeName': 'ValueInstance', 'validObject': 599996, 'noIdFound': 0, 'invalidAttribute': 0, 'invalidVertexType': 0, 'invalidPrimaryId': 0, 'invalidSecondaryId': 0, 'incorrectFixedBinaryLength': 0}], 'edge': [{'typeName': 'hasDatatypePropertyInstance', 'validObject': 599996, 'noIdFound': 0, 'invalidAttribute': 0, 'invalidVertexType': 0, 'invalidPrimaryId': 0, 'invalidSecondaryId': 0, 'incorrectFixedBinaryLength': 0}, {'typeName': 'hasValueInstance', 'validObject': 599996, 'noIdFound': 0, 'invalidAttribute': 0, 'invalidVertexType': 0, 'invalidPrimaryId': 0, 'invalidSecondaryId': 0, 'incorrectFixedBinaryLength': 0}], 'deleteVertex': [], 'deleteEdge': []}}]\n",
      "\n",
      "\n",
      "loading file ./data/input/datatype_chunk16.csv\n",
      "----------------------------------------------------------------------------------------------------\n",
      "2022-11-21 14:36:36.555756\t[{'sourceFileName': 'Online_POST', 'statistics': {'validLine': 596340, 'rejectLine': 0, 'failedConditionLine': 0, 'notEnoughToken': 13007, 'invalidJson': 0, 'oversizeToken': 0, 'vertex': [{'typeName': 'ClassInstance', 'validObject': 596340, 'noIdFound': 0, 'invalidAttribute': 0, 'invalidVertexType': 0, 'invalidPrimaryId': 0, 'invalidSecondaryId': 0, 'incorrectFixedBinaryLength': 0}, {'typeName': 'DatatypePropertyInstance', 'validObject': 596324, 'noIdFound': 16, 'invalidAttribute': 0, 'invalidVertexType': 0, 'invalidPrimaryId': 0, 'invalidSecondaryId': 0, 'incorrectFixedBinaryLength': 0}, {'typeName': 'ValueInstance', 'validObject': 596158, 'noIdFound': 182, 'invalidAttribute': 0, 'invalidVertexType': 0, 'invalidPrimaryId': 0, 'invalidSecondaryId': 0, 'incorrectFixedBinaryLength': 0}], 'edge': [{'typeName': 'hasDatatypePropertyInstance', 'validObject': 596324, 'noIdFound': 16, 'invalidAttribute': 0, 'invalidVertexType': 0, 'invalidPrimaryId': 0, 'invalidSecondaryId': 0, 'incorrectFixedBinaryLength': 0}, {'typeName': 'hasValueInstance', 'validObject': 596144, 'noIdFound': 196, 'invalidAttribute': 0, 'invalidVertexType': 0, 'invalidPrimaryId': 0, 'invalidSecondaryId': 0, 'incorrectFixedBinaryLength': 0}], 'deleteVertex': [], 'deleteEdge': []}}]\n",
      "\n",
      "\n",
      "loading file ./data/input/datatype_chunk17.csv\n",
      "----------------------------------------------------------------------------------------------------\n",
      "2022-11-21 14:37:02.675784\t[{'sourceFileName': 'Online_POST', 'statistics': {'validLine': 599825, 'rejectLine': 0, 'failedConditionLine': 0, 'notEnoughToken': 550, 'invalidJson': 0, 'oversizeToken': 0, 'vertex': [{'typeName': 'ClassInstance', 'validObject': 599825, 'noIdFound': 0, 'invalidAttribute': 0, 'invalidVertexType': 0, 'invalidPrimaryId': 0, 'invalidSecondaryId': 0, 'incorrectFixedBinaryLength': 0}, {'typeName': 'DatatypePropertyInstance', 'validObject': 599825, 'noIdFound': 0, 'invalidAttribute': 0, 'invalidVertexType': 0, 'invalidPrimaryId': 0, 'invalidSecondaryId': 0, 'incorrectFixedBinaryLength': 0}, {'typeName': 'ValueInstance', 'validObject': 599799, 'noIdFound': 26, 'invalidAttribute': 0, 'invalidVertexType': 0, 'invalidPrimaryId': 0, 'invalidSecondaryId': 0, 'incorrectFixedBinaryLength': 0}], 'edge': [{'typeName': 'hasDatatypePropertyInstance', 'validObject': 599825, 'noIdFound': 0, 'invalidAttribute': 0, 'invalidVertexType': 0, 'invalidPrimaryId': 0, 'invalidSecondaryId': 0, 'incorrectFixedBinaryLength': 0}, {'typeName': 'hasValueInstance', 'validObject': 599799, 'noIdFound': 26, 'invalidAttribute': 0, 'invalidVertexType': 0, 'invalidPrimaryId': 0, 'invalidSecondaryId': 0, 'incorrectFixedBinaryLength': 0}], 'deleteVertex': [], 'deleteEdge': []}}]\n",
      "\n",
      "\n",
      "loading file ./data/input/datatype_chunk13.csv\n",
      "----------------------------------------------------------------------------------------------------\n",
      "2022-11-21 14:37:33.602451\t[{'sourceFileName': 'Online_POST', 'statistics': {'validLine': 600000, 'rejectLine': 0, 'failedConditionLine': 0, 'notEnoughToken': 0, 'invalidJson': 0, 'oversizeToken': 0, 'vertex': [{'typeName': 'ClassInstance', 'validObject': 600000, 'noIdFound': 0, 'invalidAttribute': 0, 'invalidVertexType': 0, 'invalidPrimaryId': 0, 'invalidSecondaryId': 0, 'incorrectFixedBinaryLength': 0}, {'typeName': 'DatatypePropertyInstance', 'validObject': 600000, 'noIdFound': 0, 'invalidAttribute': 0, 'invalidVertexType': 0, 'invalidPrimaryId': 0, 'invalidSecondaryId': 0, 'incorrectFixedBinaryLength': 0}, {'typeName': 'ValueInstance', 'validObject': 600000, 'noIdFound': 0, 'invalidAttribute': 0, 'invalidVertexType': 0, 'invalidPrimaryId': 0, 'invalidSecondaryId': 0, 'incorrectFixedBinaryLength': 0}], 'edge': [{'typeName': 'hasDatatypePropertyInstance', 'validObject': 600000, 'noIdFound': 0, 'invalidAttribute': 0, 'invalidVertexType': 0, 'invalidPrimaryId': 0, 'invalidSecondaryId': 0, 'incorrectFixedBinaryLength': 0}, {'typeName': 'hasValueInstance', 'validObject': 600000, 'noIdFound': 0, 'invalidAttribute': 0, 'invalidVertexType': 0, 'invalidPrimaryId': 0, 'invalidSecondaryId': 0, 'incorrectFixedBinaryLength': 0}], 'deleteVertex': [], 'deleteEdge': []}}]\n",
      "\n",
      "\n",
      "loading file ./data/input/datatype_chunk12.csv\n",
      "----------------------------------------------------------------------------------------------------\n",
      "2022-11-21 14:38:09.205478\t[{'sourceFileName': 'Online_POST', 'statistics': {'validLine': 599991, 'rejectLine': 0, 'failedConditionLine': 0, 'notEnoughToken': 22, 'invalidJson': 0, 'oversizeToken': 0, 'vertex': [{'typeName': 'ClassInstance', 'validObject': 599991, 'noIdFound': 0, 'invalidAttribute': 0, 'invalidVertexType': 0, 'invalidPrimaryId': 0, 'invalidSecondaryId': 0, 'incorrectFixedBinaryLength': 0}, {'typeName': 'DatatypePropertyInstance', 'validObject': 599991, 'noIdFound': 0, 'invalidAttribute': 0, 'invalidVertexType': 0, 'invalidPrimaryId': 0, 'invalidSecondaryId': 0, 'incorrectFixedBinaryLength': 0}, {'typeName': 'ValueInstance', 'validObject': 599991, 'noIdFound': 0, 'invalidAttribute': 0, 'invalidVertexType': 0, 'invalidPrimaryId': 0, 'invalidSecondaryId': 0, 'incorrectFixedBinaryLength': 0}], 'edge': [{'typeName': 'hasDatatypePropertyInstance', 'validObject': 599991, 'noIdFound': 0, 'invalidAttribute': 0, 'invalidVertexType': 0, 'invalidPrimaryId': 0, 'invalidSecondaryId': 0, 'incorrectFixedBinaryLength': 0}, {'typeName': 'hasValueInstance', 'validObject': 599991, 'noIdFound': 0, 'invalidAttribute': 0, 'invalidVertexType': 0, 'invalidPrimaryId': 0, 'invalidSecondaryId': 0, 'incorrectFixedBinaryLength': 0}], 'deleteVertex': [], 'deleteEdge': []}}]\n",
      "\n",
      "\n",
      "loading file ./data/input/datatype_chunk10.csv\n",
      "----------------------------------------------------------------------------------------------------\n"
     ]
    },
    {
     "name": "stdout",
     "output_type": "stream",
     "text": [
      "2022-11-21 14:38:40.992053\t[{'sourceFileName': 'Online_POST', 'statistics': {'validLine': 599906, 'rejectLine': 0, 'failedConditionLine': 0, 'notEnoughToken': 448, 'invalidJson': 0, 'oversizeToken': 0, 'vertex': [{'typeName': 'ClassInstance', 'validObject': 599906, 'noIdFound': 0, 'invalidAttribute': 0, 'invalidVertexType': 0, 'invalidPrimaryId': 0, 'invalidSecondaryId': 0, 'incorrectFixedBinaryLength': 0}, {'typeName': 'DatatypePropertyInstance', 'validObject': 599906, 'noIdFound': 0, 'invalidAttribute': 0, 'invalidVertexType': 0, 'invalidPrimaryId': 0, 'invalidSecondaryId': 0, 'incorrectFixedBinaryLength': 0}, {'typeName': 'ValueInstance', 'validObject': 599906, 'noIdFound': 0, 'invalidAttribute': 0, 'invalidVertexType': 0, 'invalidPrimaryId': 0, 'invalidSecondaryId': 0, 'incorrectFixedBinaryLength': 0}], 'edge': [{'typeName': 'hasDatatypePropertyInstance', 'validObject': 599906, 'noIdFound': 0, 'invalidAttribute': 0, 'invalidVertexType': 0, 'invalidPrimaryId': 0, 'invalidSecondaryId': 0, 'incorrectFixedBinaryLength': 0}, {'typeName': 'hasValueInstance', 'validObject': 599906, 'noIdFound': 0, 'invalidAttribute': 0, 'invalidVertexType': 0, 'invalidPrimaryId': 0, 'invalidSecondaryId': 0, 'incorrectFixedBinaryLength': 0}], 'deleteVertex': [], 'deleteEdge': []}}]\n",
      "\n",
      "\n",
      "loading file ./data/input/datatype_chunk11.csv\n",
      "----------------------------------------------------------------------------------------------------\n",
      "2022-11-21 14:39:19.515661\t[{'sourceFileName': 'Online_POST', 'statistics': {'validLine': 599975, 'rejectLine': 0, 'failedConditionLine': 0, 'notEnoughToken': 91, 'invalidJson': 0, 'oversizeToken': 0, 'vertex': [{'typeName': 'ClassInstance', 'validObject': 599975, 'noIdFound': 0, 'invalidAttribute': 0, 'invalidVertexType': 0, 'invalidPrimaryId': 0, 'invalidSecondaryId': 0, 'incorrectFixedBinaryLength': 0}, {'typeName': 'DatatypePropertyInstance', 'validObject': 599975, 'noIdFound': 0, 'invalidAttribute': 0, 'invalidVertexType': 0, 'invalidPrimaryId': 0, 'invalidSecondaryId': 0, 'incorrectFixedBinaryLength': 0}, {'typeName': 'ValueInstance', 'validObject': 599974, 'noIdFound': 1, 'invalidAttribute': 0, 'invalidVertexType': 0, 'invalidPrimaryId': 0, 'invalidSecondaryId': 0, 'incorrectFixedBinaryLength': 0}], 'edge': [{'typeName': 'hasDatatypePropertyInstance', 'validObject': 599975, 'noIdFound': 0, 'invalidAttribute': 0, 'invalidVertexType': 0, 'invalidPrimaryId': 0, 'invalidSecondaryId': 0, 'incorrectFixedBinaryLength': 0}, {'typeName': 'hasValueInstance', 'validObject': 599974, 'noIdFound': 1, 'invalidAttribute': 0, 'invalidVertexType': 0, 'invalidPrimaryId': 0, 'invalidSecondaryId': 0, 'incorrectFixedBinaryLength': 0}], 'deleteVertex': [], 'deleteEdge': []}}]\n",
      "\n",
      "\n",
      "loading file ./data/input/datatype_chunk4.csv\n",
      "----------------------------------------------------------------------------------------------------\n",
      "2022-11-21 14:39:57.296475\t[{'sourceFileName': 'Online_POST', 'statistics': {'validLine': 599998, 'rejectLine': 0, 'failedConditionLine': 0, 'notEnoughToken': 6, 'invalidJson': 0, 'oversizeToken': 0, 'vertex': [{'typeName': 'ClassInstance', 'validObject': 599998, 'noIdFound': 0, 'invalidAttribute': 0, 'invalidVertexType': 0, 'invalidPrimaryId': 0, 'invalidSecondaryId': 0, 'incorrectFixedBinaryLength': 0}, {'typeName': 'DatatypePropertyInstance', 'validObject': 599998, 'noIdFound': 0, 'invalidAttribute': 0, 'invalidVertexType': 0, 'invalidPrimaryId': 0, 'invalidSecondaryId': 0, 'incorrectFixedBinaryLength': 0}, {'typeName': 'ValueInstance', 'validObject': 599997, 'noIdFound': 1, 'invalidAttribute': 0, 'invalidVertexType': 0, 'invalidPrimaryId': 0, 'invalidSecondaryId': 0, 'incorrectFixedBinaryLength': 0}], 'edge': [{'typeName': 'hasDatatypePropertyInstance', 'validObject': 599998, 'noIdFound': 0, 'invalidAttribute': 0, 'invalidVertexType': 0, 'invalidPrimaryId': 0, 'invalidSecondaryId': 0, 'incorrectFixedBinaryLength': 0}, {'typeName': 'hasValueInstance', 'validObject': 599997, 'noIdFound': 1, 'invalidAttribute': 0, 'invalidVertexType': 0, 'invalidPrimaryId': 0, 'invalidSecondaryId': 0, 'incorrectFixedBinaryLength': 0}], 'deleteVertex': [], 'deleteEdge': []}}]\n",
      "\n",
      "\n",
      "loading file ./data/input/datatype_chunk5.csv\n",
      "----------------------------------------------------------------------------------------------------\n",
      "2022-11-21 14:40:40.736111\t[{'sourceFileName': 'Online_POST', 'statistics': {'validLine': 599986, 'rejectLine': 0, 'failedConditionLine': 0, 'notEnoughToken': 35, 'invalidJson': 0, 'oversizeToken': 0, 'vertex': [{'typeName': 'ClassInstance', 'validObject': 599986, 'noIdFound': 0, 'invalidAttribute': 0, 'invalidVertexType': 0, 'invalidPrimaryId': 0, 'invalidSecondaryId': 0, 'incorrectFixedBinaryLength': 0}, {'typeName': 'DatatypePropertyInstance', 'validObject': 599986, 'noIdFound': 0, 'invalidAttribute': 0, 'invalidVertexType': 0, 'invalidPrimaryId': 0, 'invalidSecondaryId': 0, 'incorrectFixedBinaryLength': 0}, {'typeName': 'ValueInstance', 'validObject': 599986, 'noIdFound': 0, 'invalidAttribute': 0, 'invalidVertexType': 0, 'invalidPrimaryId': 0, 'invalidSecondaryId': 0, 'incorrectFixedBinaryLength': 0}], 'edge': [{'typeName': 'hasDatatypePropertyInstance', 'validObject': 599986, 'noIdFound': 0, 'invalidAttribute': 0, 'invalidVertexType': 0, 'invalidPrimaryId': 0, 'invalidSecondaryId': 0, 'incorrectFixedBinaryLength': 0}, {'typeName': 'hasValueInstance', 'validObject': 599986, 'noIdFound': 0, 'invalidAttribute': 0, 'invalidVertexType': 0, 'invalidPrimaryId': 0, 'invalidSecondaryId': 0, 'incorrectFixedBinaryLength': 0}], 'deleteVertex': [], 'deleteEdge': []}}]\n",
      "\n",
      "\n",
      "loading file ./data/input/datatype_chunk7.csv\n",
      "----------------------------------------------------------------------------------------------------\n",
      "2022-11-21 14:41:23.110261\t[{'sourceFileName': 'Online_POST', 'statistics': {'validLine': 600000, 'rejectLine': 0, 'failedConditionLine': 0, 'notEnoughToken': 0, 'invalidJson': 0, 'oversizeToken': 0, 'vertex': [{'typeName': 'ClassInstance', 'validObject': 600000, 'noIdFound': 0, 'invalidAttribute': 0, 'invalidVertexType': 0, 'invalidPrimaryId': 0, 'invalidSecondaryId': 0, 'incorrectFixedBinaryLength': 0}, {'typeName': 'DatatypePropertyInstance', 'validObject': 600000, 'noIdFound': 0, 'invalidAttribute': 0, 'invalidVertexType': 0, 'invalidPrimaryId': 0, 'invalidSecondaryId': 0, 'incorrectFixedBinaryLength': 0}, {'typeName': 'ValueInstance', 'validObject': 599999, 'noIdFound': 1, 'invalidAttribute': 0, 'invalidVertexType': 0, 'invalidPrimaryId': 0, 'invalidSecondaryId': 0, 'incorrectFixedBinaryLength': 0}], 'edge': [{'typeName': 'hasDatatypePropertyInstance', 'validObject': 600000, 'noIdFound': 0, 'invalidAttribute': 0, 'invalidVertexType': 0, 'invalidPrimaryId': 0, 'invalidSecondaryId': 0, 'incorrectFixedBinaryLength': 0}, {'typeName': 'hasValueInstance', 'validObject': 599999, 'noIdFound': 1, 'invalidAttribute': 0, 'invalidVertexType': 0, 'invalidPrimaryId': 0, 'invalidSecondaryId': 0, 'incorrectFixedBinaryLength': 0}], 'deleteVertex': [], 'deleteEdge': []}}]\n",
      "\n",
      "\n",
      "loading file ./data/input/datatype_chunk6.csv\n",
      "----------------------------------------------------------------------------------------------------\n",
      "2022-11-21 14:41:55.851505\t[{'sourceFileName': 'Online_POST', 'statistics': {'validLine': 599991, 'rejectLine': 0, 'failedConditionLine': 0, 'notEnoughToken': 22, 'invalidJson': 0, 'oversizeToken': 0, 'vertex': [{'typeName': 'ClassInstance', 'validObject': 599991, 'noIdFound': 0, 'invalidAttribute': 0, 'invalidVertexType': 0, 'invalidPrimaryId': 0, 'invalidSecondaryId': 0, 'incorrectFixedBinaryLength': 0}, {'typeName': 'DatatypePropertyInstance', 'validObject': 599991, 'noIdFound': 0, 'invalidAttribute': 0, 'invalidVertexType': 0, 'invalidPrimaryId': 0, 'invalidSecondaryId': 0, 'incorrectFixedBinaryLength': 0}, {'typeName': 'ValueInstance', 'validObject': 599991, 'noIdFound': 0, 'invalidAttribute': 0, 'invalidVertexType': 0, 'invalidPrimaryId': 0, 'invalidSecondaryId': 0, 'incorrectFixedBinaryLength': 0}], 'edge': [{'typeName': 'hasDatatypePropertyInstance', 'validObject': 599991, 'noIdFound': 0, 'invalidAttribute': 0, 'invalidVertexType': 0, 'invalidPrimaryId': 0, 'invalidSecondaryId': 0, 'incorrectFixedBinaryLength': 0}, {'typeName': 'hasValueInstance', 'validObject': 599991, 'noIdFound': 0, 'invalidAttribute': 0, 'invalidVertexType': 0, 'invalidPrimaryId': 0, 'invalidSecondaryId': 0, 'incorrectFixedBinaryLength': 0}], 'deleteVertex': [], 'deleteEdge': []}}]\n",
      "\n",
      "\n",
      "loading file ./data/input/datatype_chunk2.csv\n",
      "----------------------------------------------------------------------------------------------------\n"
     ]
    },
    {
     "name": "stdout",
     "output_type": "stream",
     "text": [
      "2022-11-21 14:42:35.995722\t[{'sourceFileName': 'Online_POST', 'statistics': {'validLine': 600000, 'rejectLine': 0, 'failedConditionLine': 0, 'notEnoughToken': 0, 'invalidJson': 0, 'oversizeToken': 0, 'vertex': [{'typeName': 'ClassInstance', 'validObject': 600000, 'noIdFound': 0, 'invalidAttribute': 0, 'invalidVertexType': 0, 'invalidPrimaryId': 0, 'invalidSecondaryId': 0, 'incorrectFixedBinaryLength': 0}, {'typeName': 'DatatypePropertyInstance', 'validObject': 600000, 'noIdFound': 0, 'invalidAttribute': 0, 'invalidVertexType': 0, 'invalidPrimaryId': 0, 'invalidSecondaryId': 0, 'incorrectFixedBinaryLength': 0}, {'typeName': 'ValueInstance', 'validObject': 600000, 'noIdFound': 0, 'invalidAttribute': 0, 'invalidVertexType': 0, 'invalidPrimaryId': 0, 'invalidSecondaryId': 0, 'incorrectFixedBinaryLength': 0}], 'edge': [{'typeName': 'hasDatatypePropertyInstance', 'validObject': 600000, 'noIdFound': 0, 'invalidAttribute': 0, 'invalidVertexType': 0, 'invalidPrimaryId': 0, 'invalidSecondaryId': 0, 'incorrectFixedBinaryLength': 0}, {'typeName': 'hasValueInstance', 'validObject': 600000, 'noIdFound': 0, 'invalidAttribute': 0, 'invalidVertexType': 0, 'invalidPrimaryId': 0, 'invalidSecondaryId': 0, 'incorrectFixedBinaryLength': 0}], 'deleteVertex': [], 'deleteEdge': []}}]\n",
      "\n",
      "\n",
      "loading file ./data/input/datatype_chunk3.csv\n",
      "----------------------------------------------------------------------------------------------------\n",
      "2022-11-21 14:43:08.753855\t[{'sourceFileName': 'Online_POST', 'statistics': {'validLine': 600000, 'rejectLine': 0, 'failedConditionLine': 0, 'notEnoughToken': 0, 'invalidJson': 0, 'oversizeToken': 0, 'vertex': [{'typeName': 'ClassInstance', 'validObject': 600000, 'noIdFound': 0, 'invalidAttribute': 0, 'invalidVertexType': 0, 'invalidPrimaryId': 0, 'invalidSecondaryId': 0, 'incorrectFixedBinaryLength': 0}, {'typeName': 'DatatypePropertyInstance', 'validObject': 600000, 'noIdFound': 0, 'invalidAttribute': 0, 'invalidVertexType': 0, 'invalidPrimaryId': 0, 'invalidSecondaryId': 0, 'incorrectFixedBinaryLength': 0}, {'typeName': 'ValueInstance', 'validObject': 600000, 'noIdFound': 0, 'invalidAttribute': 0, 'invalidVertexType': 0, 'invalidPrimaryId': 0, 'invalidSecondaryId': 0, 'incorrectFixedBinaryLength': 0}], 'edge': [{'typeName': 'hasDatatypePropertyInstance', 'validObject': 600000, 'noIdFound': 0, 'invalidAttribute': 0, 'invalidVertexType': 0, 'invalidPrimaryId': 0, 'invalidSecondaryId': 0, 'incorrectFixedBinaryLength': 0}, {'typeName': 'hasValueInstance', 'validObject': 600000, 'noIdFound': 0, 'invalidAttribute': 0, 'invalidVertexType': 0, 'invalidPrimaryId': 0, 'invalidSecondaryId': 0, 'incorrectFixedBinaryLength': 0}], 'deleteVertex': [], 'deleteEdge': []}}]\n",
      "\n",
      "\n",
      "loading file ./data/input/datatype_chunk1.csv\n",
      "----------------------------------------------------------------------------------------------------\n",
      "2022-11-21 14:43:46.620809\t[{'sourceFileName': 'Online_POST', 'statistics': {'validLine': 600000, 'rejectLine': 0, 'failedConditionLine': 0, 'notEnoughToken': 0, 'invalidJson': 0, 'oversizeToken': 0, 'vertex': [{'typeName': 'ClassInstance', 'validObject': 600000, 'noIdFound': 0, 'invalidAttribute': 0, 'invalidVertexType': 0, 'invalidPrimaryId': 0, 'invalidSecondaryId': 0, 'incorrectFixedBinaryLength': 0}, {'typeName': 'DatatypePropertyInstance', 'validObject': 600000, 'noIdFound': 0, 'invalidAttribute': 0, 'invalidVertexType': 0, 'invalidPrimaryId': 0, 'invalidSecondaryId': 0, 'incorrectFixedBinaryLength': 0}, {'typeName': 'ValueInstance', 'validObject': 600000, 'noIdFound': 0, 'invalidAttribute': 0, 'invalidVertexType': 0, 'invalidPrimaryId': 0, 'invalidSecondaryId': 0, 'incorrectFixedBinaryLength': 0}], 'edge': [{'typeName': 'hasDatatypePropertyInstance', 'validObject': 600000, 'noIdFound': 0, 'invalidAttribute': 0, 'invalidVertexType': 0, 'invalidPrimaryId': 0, 'invalidSecondaryId': 0, 'incorrectFixedBinaryLength': 0}, {'typeName': 'hasValueInstance', 'validObject': 600000, 'noIdFound': 0, 'invalidAttribute': 0, 'invalidVertexType': 0, 'invalidPrimaryId': 0, 'invalidSecondaryId': 0, 'incorrectFixedBinaryLength': 0}], 'deleteVertex': [], 'deleteEdge': []}}]\n",
      "\n",
      "\n",
      "loading file ./data/input/datatype_chunk0.csv\n",
      "----------------------------------------------------------------------------------------------------\n",
      "2022-11-21 14:44:34.588051\t[{'sourceFileName': 'Online_POST', 'statistics': {'validLine': 598865, 'rejectLine': 0, 'failedConditionLine': 0, 'notEnoughToken': 1144, 'invalidJson': 0, 'oversizeToken': 0, 'vertex': [{'typeName': 'ClassInstance', 'validObject': 598865, 'noIdFound': 0, 'invalidAttribute': 0, 'invalidVertexType': 0, 'invalidPrimaryId': 0, 'invalidSecondaryId': 0, 'incorrectFixedBinaryLength': 0}, {'typeName': 'DatatypePropertyInstance', 'validObject': 598864, 'noIdFound': 1, 'invalidAttribute': 0, 'invalidVertexType': 0, 'invalidPrimaryId': 0, 'invalidSecondaryId': 0, 'incorrectFixedBinaryLength': 0}, {'typeName': 'ValueInstance', 'validObject': 598847, 'noIdFound': 18, 'invalidAttribute': 0, 'invalidVertexType': 0, 'invalidPrimaryId': 0, 'invalidSecondaryId': 0, 'incorrectFixedBinaryLength': 0}], 'edge': [{'typeName': 'hasDatatypePropertyInstance', 'validObject': 598864, 'noIdFound': 1, 'invalidAttribute': 0, 'invalidVertexType': 0, 'invalidPrimaryId': 0, 'invalidSecondaryId': 0, 'incorrectFixedBinaryLength': 0}, {'typeName': 'hasValueInstance', 'validObject': 598846, 'noIdFound': 19, 'invalidAttribute': 0, 'invalidVertexType': 0, 'invalidPrimaryId': 0, 'invalidSecondaryId': 0, 'incorrectFixedBinaryLength': 0}], 'deleteVertex': [], 'deleteEdge': []}}]\n",
      "\n",
      "\n",
      "loading file ./data/input/datatype_chunk8.csv\n",
      "----------------------------------------------------------------------------------------------------\n",
      "2022-11-21 14:45:17.160576\t[{'sourceFileName': 'Online_POST', 'statistics': {'validLine': 599040, 'rejectLine': 0, 'failedConditionLine': 0, 'notEnoughToken': 961, 'invalidJson': 0, 'oversizeToken': 0, 'vertex': [{'typeName': 'ClassInstance', 'validObject': 599040, 'noIdFound': 0, 'invalidAttribute': 0, 'invalidVertexType': 0, 'invalidPrimaryId': 0, 'invalidSecondaryId': 0, 'incorrectFixedBinaryLength': 0}, {'typeName': 'DatatypePropertyInstance', 'validObject': 599040, 'noIdFound': 0, 'invalidAttribute': 0, 'invalidVertexType': 0, 'invalidPrimaryId': 0, 'invalidSecondaryId': 0, 'incorrectFixedBinaryLength': 0}, {'typeName': 'ValueInstance', 'validObject': 598975, 'noIdFound': 65, 'invalidAttribute': 0, 'invalidVertexType': 0, 'invalidPrimaryId': 0, 'invalidSecondaryId': 0, 'incorrectFixedBinaryLength': 0}], 'edge': [{'typeName': 'hasDatatypePropertyInstance', 'validObject': 599040, 'noIdFound': 0, 'invalidAttribute': 0, 'invalidVertexType': 0, 'invalidPrimaryId': 0, 'invalidSecondaryId': 0, 'incorrectFixedBinaryLength': 0}, {'typeName': 'hasValueInstance', 'validObject': 598975, 'noIdFound': 65, 'invalidAttribute': 0, 'invalidVertexType': 0, 'invalidPrimaryId': 0, 'invalidSecondaryId': 0, 'incorrectFixedBinaryLength': 0}], 'deleteVertex': [], 'deleteEdge': []}}]\n",
      "\n",
      "\n",
      "loading file ./data/input/datatype_chunk9.csv\n",
      "----------------------------------------------------------------------------------------------------\n",
      "2022-11-21 14:45:53.549115\t[{'sourceFileName': 'Online_POST', 'statistics': {'validLine': 596322, 'rejectLine': 0, 'failedConditionLine': 0, 'notEnoughToken': 12480, 'invalidJson': 0, 'oversizeToken': 0, 'vertex': [{'typeName': 'ClassInstance', 'validObject': 596322, 'noIdFound': 0, 'invalidAttribute': 0, 'invalidVertexType': 0, 'invalidPrimaryId': 0, 'invalidSecondaryId': 0, 'incorrectFixedBinaryLength': 0}, {'typeName': 'DatatypePropertyInstance', 'validObject': 596320, 'noIdFound': 2, 'invalidAttribute': 0, 'invalidVertexType': 0, 'invalidPrimaryId': 0, 'invalidSecondaryId': 0, 'incorrectFixedBinaryLength': 0}, {'typeName': 'ValueInstance', 'validObject': 596236, 'noIdFound': 86, 'invalidAttribute': 0, 'invalidVertexType': 0, 'invalidPrimaryId': 0, 'invalidSecondaryId': 0, 'incorrectFixedBinaryLength': 0}], 'edge': [{'typeName': 'hasDatatypePropertyInstance', 'validObject': 596320, 'noIdFound': 2, 'invalidAttribute': 0, 'invalidVertexType': 0, 'invalidPrimaryId': 0, 'invalidSecondaryId': 0, 'incorrectFixedBinaryLength': 0}, {'typeName': 'hasValueInstance', 'validObject': 596234, 'noIdFound': 88, 'invalidAttribute': 0, 'invalidVertexType': 0, 'invalidPrimaryId': 0, 'invalidSecondaryId': 0, 'incorrectFixedBinaryLength': 0}], 'deleteVertex': [], 'deleteEdge': []}}]\n",
      "\n",
      "\n",
      "loading file ./data/input/datatype_chunk20.csv\n",
      "----------------------------------------------------------------------------------------------------\n"
     ]
    },
    {
     "name": "stdout",
     "output_type": "stream",
     "text": [
      "2022-11-21 14:46:37.549995\t[{'sourceFileName': 'Online_POST', 'statistics': {'validLine': 599998, 'rejectLine': 0, 'failedConditionLine': 0, 'notEnoughToken': 2, 'invalidJson': 0, 'oversizeToken': 0, 'vertex': [{'typeName': 'ClassInstance', 'validObject': 599998, 'noIdFound': 0, 'invalidAttribute': 0, 'invalidVertexType': 0, 'invalidPrimaryId': 0, 'invalidSecondaryId': 0, 'incorrectFixedBinaryLength': 0}, {'typeName': 'DatatypePropertyInstance', 'validObject': 599998, 'noIdFound': 0, 'invalidAttribute': 0, 'invalidVertexType': 0, 'invalidPrimaryId': 0, 'invalidSecondaryId': 0, 'incorrectFixedBinaryLength': 0}, {'typeName': 'ValueInstance', 'validObject': 599966, 'noIdFound': 32, 'invalidAttribute': 0, 'invalidVertexType': 0, 'invalidPrimaryId': 0, 'invalidSecondaryId': 0, 'incorrectFixedBinaryLength': 0}], 'edge': [{'typeName': 'hasDatatypePropertyInstance', 'validObject': 599998, 'noIdFound': 0, 'invalidAttribute': 0, 'invalidVertexType': 0, 'invalidPrimaryId': 0, 'invalidSecondaryId': 0, 'incorrectFixedBinaryLength': 0}, {'typeName': 'hasValueInstance', 'validObject': 599966, 'noIdFound': 32, 'invalidAttribute': 0, 'invalidVertexType': 0, 'invalidPrimaryId': 0, 'invalidSecondaryId': 0, 'incorrectFixedBinaryLength': 0}], 'deleteVertex': [], 'deleteEdge': []}}]\n",
      "\n",
      "\n",
      "loading file ./data/input/datatype_chunk21.csv\n",
      "----------------------------------------------------------------------------------------------------\n",
      "2022-11-21 14:47:16.635502\t[{'sourceFileName': 'Online_POST', 'statistics': {'validLine': 600000, 'rejectLine': 0, 'failedConditionLine': 0, 'notEnoughToken': 0, 'invalidJson': 0, 'oversizeToken': 0, 'vertex': [{'typeName': 'ClassInstance', 'validObject': 600000, 'noIdFound': 0, 'invalidAttribute': 0, 'invalidVertexType': 0, 'invalidPrimaryId': 0, 'invalidSecondaryId': 0, 'incorrectFixedBinaryLength': 0}, {'typeName': 'DatatypePropertyInstance', 'validObject': 600000, 'noIdFound': 0, 'invalidAttribute': 0, 'invalidVertexType': 0, 'invalidPrimaryId': 0, 'invalidSecondaryId': 0, 'incorrectFixedBinaryLength': 0}, {'typeName': 'ValueInstance', 'validObject': 600000, 'noIdFound': 0, 'invalidAttribute': 0, 'invalidVertexType': 0, 'invalidPrimaryId': 0, 'invalidSecondaryId': 0, 'incorrectFixedBinaryLength': 0}], 'edge': [{'typeName': 'hasDatatypePropertyInstance', 'validObject': 600000, 'noIdFound': 0, 'invalidAttribute': 0, 'invalidVertexType': 0, 'invalidPrimaryId': 0, 'invalidSecondaryId': 0, 'incorrectFixedBinaryLength': 0}, {'typeName': 'hasValueInstance', 'validObject': 600000, 'noIdFound': 0, 'invalidAttribute': 0, 'invalidVertexType': 0, 'invalidPrimaryId': 0, 'invalidSecondaryId': 0, 'incorrectFixedBinaryLength': 0}], 'deleteVertex': [], 'deleteEdge': []}}]\n",
      "\n",
      "\n",
      "loading file ./data/input/datatype_chunk23.csv\n",
      "----------------------------------------------------------------------------------------------------\n",
      "2022-11-21 14:47:56.294766\t[{'sourceFileName': 'Online_POST', 'statistics': {'validLine': 600000, 'rejectLine': 0, 'failedConditionLine': 0, 'notEnoughToken': 0, 'invalidJson': 0, 'oversizeToken': 0, 'vertex': [{'typeName': 'ClassInstance', 'validObject': 600000, 'noIdFound': 0, 'invalidAttribute': 0, 'invalidVertexType': 0, 'invalidPrimaryId': 0, 'invalidSecondaryId': 0, 'incorrectFixedBinaryLength': 0}, {'typeName': 'DatatypePropertyInstance', 'validObject': 600000, 'noIdFound': 0, 'invalidAttribute': 0, 'invalidVertexType': 0, 'invalidPrimaryId': 0, 'invalidSecondaryId': 0, 'incorrectFixedBinaryLength': 0}, {'typeName': 'ValueInstance', 'validObject': 600000, 'noIdFound': 0, 'invalidAttribute': 0, 'invalidVertexType': 0, 'invalidPrimaryId': 0, 'invalidSecondaryId': 0, 'incorrectFixedBinaryLength': 0}], 'edge': [{'typeName': 'hasDatatypePropertyInstance', 'validObject': 600000, 'noIdFound': 0, 'invalidAttribute': 0, 'invalidVertexType': 0, 'invalidPrimaryId': 0, 'invalidSecondaryId': 0, 'incorrectFixedBinaryLength': 0}, {'typeName': 'hasValueInstance', 'validObject': 600000, 'noIdFound': 0, 'invalidAttribute': 0, 'invalidVertexType': 0, 'invalidPrimaryId': 0, 'invalidSecondaryId': 0, 'incorrectFixedBinaryLength': 0}], 'deleteVertex': [], 'deleteEdge': []}}]\n",
      "\n",
      "\n",
      "loading file ./data/input/datatype_chunk22.csv\n",
      "----------------------------------------------------------------------------------------------------\n",
      "2022-11-21 14:48:33.159717\t[{'sourceFileName': 'Online_POST', 'statistics': {'validLine': 600000, 'rejectLine': 0, 'failedConditionLine': 0, 'notEnoughToken': 0, 'invalidJson': 0, 'oversizeToken': 0, 'vertex': [{'typeName': 'ClassInstance', 'validObject': 600000, 'noIdFound': 0, 'invalidAttribute': 0, 'invalidVertexType': 0, 'invalidPrimaryId': 0, 'invalidSecondaryId': 0, 'incorrectFixedBinaryLength': 0}, {'typeName': 'DatatypePropertyInstance', 'validObject': 600000, 'noIdFound': 0, 'invalidAttribute': 0, 'invalidVertexType': 0, 'invalidPrimaryId': 0, 'invalidSecondaryId': 0, 'incorrectFixedBinaryLength': 0}, {'typeName': 'ValueInstance', 'validObject': 600000, 'noIdFound': 0, 'invalidAttribute': 0, 'invalidVertexType': 0, 'invalidPrimaryId': 0, 'invalidSecondaryId': 0, 'incorrectFixedBinaryLength': 0}], 'edge': [{'typeName': 'hasDatatypePropertyInstance', 'validObject': 600000, 'noIdFound': 0, 'invalidAttribute': 0, 'invalidVertexType': 0, 'invalidPrimaryId': 0, 'invalidSecondaryId': 0, 'incorrectFixedBinaryLength': 0}, {'typeName': 'hasValueInstance', 'validObject': 600000, 'noIdFound': 0, 'invalidAttribute': 0, 'invalidVertexType': 0, 'invalidPrimaryId': 0, 'invalidSecondaryId': 0, 'incorrectFixedBinaryLength': 0}], 'deleteVertex': [], 'deleteEdge': []}}]\n",
      "\n",
      "\n",
      "loading file ./data/input/datatype_chunk19.csv\n",
      "----------------------------------------------------------------------------------------------------\n",
      "2022-11-21 14:49:11.150484\t[{'sourceFileName': 'Online_POST', 'statistics': {'validLine': 600000, 'rejectLine': 0, 'failedConditionLine': 0, 'notEnoughToken': 0, 'invalidJson': 0, 'oversizeToken': 0, 'vertex': [{'typeName': 'ClassInstance', 'validObject': 600000, 'noIdFound': 0, 'invalidAttribute': 0, 'invalidVertexType': 0, 'invalidPrimaryId': 0, 'invalidSecondaryId': 0, 'incorrectFixedBinaryLength': 0}, {'typeName': 'DatatypePropertyInstance', 'validObject': 600000, 'noIdFound': 0, 'invalidAttribute': 0, 'invalidVertexType': 0, 'invalidPrimaryId': 0, 'invalidSecondaryId': 0, 'incorrectFixedBinaryLength': 0}, {'typeName': 'ValueInstance', 'validObject': 599884, 'noIdFound': 116, 'invalidAttribute': 0, 'invalidVertexType': 0, 'invalidPrimaryId': 0, 'invalidSecondaryId': 0, 'incorrectFixedBinaryLength': 0}], 'edge': [{'typeName': 'hasDatatypePropertyInstance', 'validObject': 600000, 'noIdFound': 0, 'invalidAttribute': 0, 'invalidVertexType': 0, 'invalidPrimaryId': 0, 'invalidSecondaryId': 0, 'incorrectFixedBinaryLength': 0}, {'typeName': 'hasValueInstance', 'validObject': 599884, 'noIdFound': 116, 'invalidAttribute': 0, 'invalidVertexType': 0, 'invalidPrimaryId': 0, 'invalidSecondaryId': 0, 'incorrectFixedBinaryLength': 0}], 'deleteVertex': [], 'deleteEdge': []}}]\n",
      "\n",
      "\n",
      "loading file ./data/input/datatype_chunk24.csv\n",
      "----------------------------------------------------------------------------------------------------\n",
      "2022-11-21 14:49:34.447552\t[{'sourceFileName': 'Online_POST', 'statistics': {'validLine': 449877, 'rejectLine': 0, 'failedConditionLine': 0, 'notEnoughToken': 0, 'invalidJson': 0, 'oversizeToken': 0, 'vertex': [{'typeName': 'ClassInstance', 'validObject': 449877, 'noIdFound': 0, 'invalidAttribute': 0, 'invalidVertexType': 0, 'invalidPrimaryId': 0, 'invalidSecondaryId': 0, 'incorrectFixedBinaryLength': 0}, {'typeName': 'DatatypePropertyInstance', 'validObject': 449855, 'noIdFound': 22, 'invalidAttribute': 0, 'invalidVertexType': 0, 'invalidPrimaryId': 0, 'invalidSecondaryId': 0, 'incorrectFixedBinaryLength': 0}, {'typeName': 'ValueInstance', 'validObject': 449877, 'noIdFound': 0, 'invalidAttribute': 0, 'invalidVertexType': 0, 'invalidPrimaryId': 0, 'invalidSecondaryId': 0, 'incorrectFixedBinaryLength': 0}], 'edge': [{'typeName': 'hasDatatypePropertyInstance', 'validObject': 449855, 'noIdFound': 22, 'invalidAttribute': 0, 'invalidVertexType': 0, 'invalidPrimaryId': 0, 'invalidSecondaryId': 0, 'incorrectFixedBinaryLength': 0}, {'typeName': 'hasValueInstance', 'validObject': 449855, 'noIdFound': 22, 'invalidAttribute': 0, 'invalidVertexType': 0, 'invalidPrimaryId': 0, 'invalidSecondaryId': 0, 'incorrectFixedBinaryLength': 0}], 'deleteVertex': [], 'deleteEdge': []}}]\n",
      "\n",
      "\n",
      "loading file ./data/input/datatype_chunk18.csv\n",
      "----------------------------------------------------------------------------------------------------\n"
     ]
    },
    {
     "name": "stdout",
     "output_type": "stream",
     "text": [
      "2022-11-21 14:50:19.473750\t[{'sourceFileName': 'Online_POST', 'statistics': {'validLine': 600000, 'rejectLine': 0, 'failedConditionLine': 0, 'notEnoughToken': 0, 'invalidJson': 0, 'oversizeToken': 0, 'vertex': [{'typeName': 'ClassInstance', 'validObject': 600000, 'noIdFound': 0, 'invalidAttribute': 0, 'invalidVertexType': 0, 'invalidPrimaryId': 0, 'invalidSecondaryId': 0, 'incorrectFixedBinaryLength': 0}, {'typeName': 'DatatypePropertyInstance', 'validObject': 600000, 'noIdFound': 0, 'invalidAttribute': 0, 'invalidVertexType': 0, 'invalidPrimaryId': 0, 'invalidSecondaryId': 0, 'incorrectFixedBinaryLength': 0}, {'typeName': 'ValueInstance', 'validObject': 599873, 'noIdFound': 127, 'invalidAttribute': 0, 'invalidVertexType': 0, 'invalidPrimaryId': 0, 'invalidSecondaryId': 0, 'incorrectFixedBinaryLength': 0}], 'edge': [{'typeName': 'hasDatatypePropertyInstance', 'validObject': 600000, 'noIdFound': 0, 'invalidAttribute': 0, 'invalidVertexType': 0, 'invalidPrimaryId': 0, 'invalidSecondaryId': 0, 'incorrectFixedBinaryLength': 0}, {'typeName': 'hasValueInstance', 'validObject': 599873, 'noIdFound': 127, 'invalidAttribute': 0, 'invalidVertexType': 0, 'invalidPrimaryId': 0, 'invalidSecondaryId': 0, 'incorrectFixedBinaryLength': 0}], 'deleteVertex': [], 'deleteEdge': []}}]\n",
      "\n",
      "\n"
     ]
    }
   ],
   "source": [
    "for datatypeFile in datatype_file_list:\n",
    "    print (\"loading file\", datatypeFile)\n",
    "    print (\"-\"*100)\n",
    "    uploadDPFile = conn.runLoadingJobWithFile(filePath=datatypeFile, fileTag=\"DatatypeProperty_file\", jobName=\"load_data\", sep=\"|\", eol=\"\\n\", timeout=0, sizeLimit=200000000)\n",
    "    log (uploadDPFile)\n",
    "    print (\"\\n\")"
   ]
  },
  {
   "cell_type": "markdown",
   "id": "bb8edd51",
   "metadata": {},
   "source": [
    "### Get vertex/edge statistics"
   ]
  },
  {
   "cell_type": "code",
   "execution_count": 15,
   "id": "88ba3a8d",
   "metadata": {},
   "outputs": [
    {
     "name": "stdout",
     "output_type": "stream",
     "text": [
      "Node count: (ClassInstance : 3946393) \n",
      "Node count: (ObjectPropertyInstance : 16955079) \n",
      "Node count: (DatatypePropertyInstance : 14820604) \n",
      "Node count: (ValueInstance : 5165683) \n",
      "Total node count:  40887759\n"
     ]
    }
   ],
   "source": [
    "vertices = conn.getVertexTypes()\n",
    "total_count = 0\n",
    "\n",
    "for vertex in vertices:\n",
    "    vertex_cnt = conn.getVertexCount(vertex)\n",
    "    total_count += vertex_cnt\n",
    "    print(\"Node count: ({} : {}) \".format(vertex, vertex_cnt))\n",
    "print(\"Total node count: \", total_count)"
   ]
  },
  {
   "cell_type": "code",
   "execution_count": 16,
   "id": "e9a8d21f",
   "metadata": {
    "scrolled": true
   },
   "outputs": [
    {
     "name": "stdout",
     "output_type": "stream",
     "text": [
      "Edges count: total  124421814\n",
      "{'hasDatatypePropertyInstance': 14086033,\n",
      " 'hasObjectInstance': 16955079,\n",
      " 'hasObjectPropertyInstance': 16955079,\n",
      " 'hasValueInstance': 14061041,\n",
      " 'reverse_hasDatatypePropertyInstance': 14073247,\n",
      " 'reverse_hasObjectInstance': 16955079,\n",
      " 'reverse_hasObjectPropertyInstance': 16955079,\n",
      " 'reverse_hasValueInstance': 14381177}\n"
     ]
    }
   ],
   "source": [
    "import pprint\n",
    "edge_count = conn.getEdgeCount()\n",
    "print(\"Edges count: total \", sum(edge_count.values()))\n",
    "pprint.pprint(edge_count) "
   ]
  },
  {
   "cell_type": "markdown",
   "id": "8dd90bf5",
   "metadata": {},
   "source": [
    "## UDF installation\n",
    "\n",
    "In GSQL, users can supplement the language by defining their own query user-defined functions (query UDFs) in C++. Query UDFs can be called in queries and subqueries to perform a set of defined actions and return a value like the built-in functions. \n",
    "\n",
    "In this project, a type conversation function str_to_float() is not built-in in TigerGraph DB, which needs to install by following the steps below. \n",
    "\n",
    "This page introduces the process to define a query UDF. Once defined, the new functions are added into GSQL automatically the next time GSQL is executed. (https://docs.tigergraph.com/gsql-ref/current/querying/func/query-user-defined-functions)\n",
    "\n",
    "There are two ways to modify the UDF files to add user-defined functions to GSQL. Both are secured by gadmin and require administrator-level access\n",
    "\n",
    "### Use GitHub to store UDFs\n",
    "\n",
    "* Store UDF files in a GitHub repository, and configure GSQL to read from the repository.\n",
    "\n",
    "    * This is the recommended approach. It also takes the highest precedence. If GSQL is configured to read from GitHub for UDFs and the configurations are valid, UDFs in other sources are ignored. Two hpp files (ExprFunctions.hpp and ExprUtil.hpp) are provided in the ./data/input/udf \n",
    "    \n",
    "Use the gadmin config set command to configure the aforementioned parameters to connect GSQL to the GitHub repository hosting your files.\n",
    "\n",
    "The following is an example configuration. Remember to run gadmin config apply after changing the parameters. If GSQL is already running, run gadmin restart all to restart GSQL before the UDFs become available.\n",
    "\n",
    "* gadmin config set GSQL.GithubUserAcessToken xxxxxxxxxxx\n",
    "* gadmin config set GSQL.GithubRepository repo name\n",
    "* gadmin config set GSQL.GithubBranch branch name\n",
    "* gadmin config set GSQL.GithubPath path/to/code\n",
    "* gadmin config apply\n",
    "\n",
    "After the parameters are successfully configured, you can access your UDFs in new queries right away.\n",
    "\n",
    "### Upload UDFs with GSQL PUT command\n",
    "\n",
    "Run the following command to enable uploading query UDFs through the GSQL PUT command:\n",
    "\n",
    "* gadmin config set GSQL.UDF.EnablePutExpr true\n",
    "* gadmin config apply\n",
    "* gadmin restart gsql\n",
    "\n",
    "use the PUT command to upload the files you modified.\n",
    "\n",
    "* GSQL > PUT ExprFunctions FROM </path/to/udf_file.hpp>\n",
    "* PUT ExprFunctions successfully.\n",
    "* GSQL > PUT ExprUtil FROM </path/to/utils_file.hpp>\n",
    "* PUT ExprUtil successfully.\n",
    "\n",
    "The PUT command automatically uploads the files in all nodes in a cluster and updates all existing files. Once the files are stored, you can call the UDFs in a query the next time GSQL is executed. "
   ]
  },
  {
   "cell_type": "markdown",
   "id": "464cbb14",
   "metadata": {},
   "source": [
    "## Create all gsql queries"
   ]
  },
  {
   "cell_type": "code",
   "execution_count": 17,
   "id": "b9547068",
   "metadata": {
    "scrolled": true
   },
   "outputs": [
    {
     "name": "stdout",
     "output_type": "stream",
     "text": [
      "2022-11-21 14:50:33.213024\tCreate GSQL query\n",
      "2022-11-21 14:50:34.439395\tSuccessfully created queries: [basic_query3_optimized].\n",
      "2022-11-21 14:50:35.261386\tSuccessfully created queries: [basic_query11_optimized].\n",
      "2022-11-21 14:50:36.344281\tSuccessfully created queries: [basic_query10_optimized].\n",
      "2022-11-21 14:50:37.470488\tSuccessfully created queries: [basic_query2_optimized].\n",
      "2022-11-21 14:50:39.219104\tSuccessfully created queries: [basic_query1_optimized].\n",
      "2022-11-21 14:50:40.318508\tSuccessfully created queries: [basic_query5_optimized].\n",
      "2022-11-21 14:50:41.465190\tSuccessfully created queries: [basic_query4_optimized].\n",
      "2022-11-21 14:50:42.600186\tWarning in query basic_query6_optimized (WARN-5): line 221, col 18\n",
      "The comparison\n",
      "'str_to_float(s.@latitude)>=(41.57930219264732-0.2232188735361287)' may lead to\n",
      "unexpected behavior because it involves equality test between float/double\n",
      "numeric values. We suggest to do such comparison with an error margin, e.g.\n",
      "'str_to_float(s.@latitude)>=(41.57930219264732-0.2232188735361287) - epsilon',\n",
      "where epsilon is a very small positive value of your choice, such as 0.0001.\n",
      "Warning in query basic_query6_optimized (WARN-5): line 222, col 18\n",
      "The comparison\n",
      "'str_to_float(s.@latitude)<=(41.57930219264732+0.2232188735361287)' may lead to\n",
      "unexpected behavior because it involves equality test between float/double\n",
      "numeric values. We suggest to do such comparison with an error margin, e.g.\n",
      "'str_to_float(s.@latitude)<=(41.57930219264732+0.2232188735361287) + epsilon',\n",
      "where epsilon is a very small positive value of your choice, such as 0.0001.\n",
      "Warning in query basic_query6_optimized (WARN-5): line 223, col 18\n",
      "The comparison\n",
      "'str_to_float(s.@longitude)>=(-1.0231757610303737-0.2232188735361287)' may lead\n",
      "to unexpected behavior because it involves equality test between float/double\n",
      "numeric values. We suggest to do such comparison with an error margin, e.g.\n",
      "'str_to_float(s.@longitude)>=(-1.0231757610303737-0.2232188735361287) -\n",
      "epsilon', where epsilon is a very small positive value of your choice, such as\n",
      "0.0001.\n",
      "Warning in query basic_query6_optimized (WARN-5): line 224, col 18\n",
      "The comparison\n",
      "'str_to_float(s.@longitude)<=(-1.0231757610303737+0.2232188735361287)' may lead\n",
      "to unexpected behavior because it involves equality test between float/double\n",
      "numeric values. We suggest to do such comparison with an error margin, e.g.\n",
      "'str_to_float(s.@longitude)<=(-1.0231757610303737+0.2232188735361287) +\n",
      "epsilon', where epsilon is a very small positive value of your choice, such as\n",
      "0.0001.\n",
      "Successfully created queries: [basic_query6_optimized].\n",
      "2022-11-21 14:50:43.615490\tSuccessfully created queries: [basic_query7_optimized].\n",
      "2022-11-21 14:50:44.750542\tSuccessfully created queries: [basic_query9_optimized].\n",
      "2022-11-21 14:50:45.955781\tSuccessfully created queries: [basic_query8_optimized].\n",
      "2022-11-21 14:50:46.891347\tSuccessfully created queries: [advanced_query10_optimized].\n",
      "2022-11-21 14:50:48.021492\tSuccessfully created queries: [advanced_query11_optimized].\n",
      "2022-11-21 14:50:48.861547\tSuccessfully created queries: [advanced_query13_optimized].\n",
      "2022-11-21 14:50:49.964115\tSuccessfully created queries: [advanced_query12_optimized].\n",
      "2022-11-21 14:50:50.890742\tSuccessfully created queries: [advanced_query8_optimized].\n",
      "2022-11-21 14:50:52.215210\tSuccessfully created queries: [advanced_query16_optimized].\n",
      "2022-11-21 14:50:53.345087\tWarning in query advanced_query17_optimized (WARN-5): line 217, col 18\n",
      "The comparison\n",
      "'str_to_float(s.@latitude)>=(41.57930219264732-0.2232188735361287)' may lead to\n",
      "unexpected behavior because it involves equality test between float/double\n",
      "numeric values. We suggest to do such comparison with an error margin, e.g.\n",
      "'str_to_float(s.@latitude)>=(41.57930219264732-0.2232188735361287) - epsilon',\n",
      "where epsilon is a very small positive value of your choice, such as 0.0001.\n",
      "Warning in query advanced_query17_optimized (WARN-5): line 218, col 18\n",
      "The comparison\n",
      "'str_to_float(s.@latitude)<=(41.57930219264732+0.2232188735361287)' may lead to\n",
      "unexpected behavior because it involves equality test between float/double\n",
      "numeric values. We suggest to do such comparison with an error margin, e.g.\n",
      "'str_to_float(s.@latitude)<=(41.57930219264732+0.2232188735361287) + epsilon',\n",
      "where epsilon is a very small positive value of your choice, such as 0.0001.\n",
      "Warning in query advanced_query17_optimized (WARN-5): line 219, col 18\n",
      "The comparison\n",
      "'str_to_float(s.@longitude)>=(-1.0231757610303737-0.2232188735361287)' may lead\n",
      "to unexpected behavior because it involves equality test between float/double\n",
      "numeric values. We suggest to do such comparison with an error margin, e.g.\n",
      "'str_to_float(s.@longitude)>=(-1.0231757610303737-0.2232188735361287) -\n",
      "epsilon', where epsilon is a very small positive value of your choice, such as\n",
      "0.0001.\n",
      "Warning in query advanced_query17_optimized (WARN-5): line 220, col 18\n",
      "The comparison\n",
      "'str_to_float(s.@longitude)<=(-1.0231757610303737+0.2232188735361287)' may lead\n",
      "to unexpected behavior because it involves equality test between float/double\n",
      "numeric values. We suggest to do such comparison with an error margin, e.g.\n",
      "'str_to_float(s.@longitude)<=(-1.0231757610303737+0.2232188735361287) +\n",
      "epsilon', where epsilon is a very small positive value of your choice, such as\n",
      "0.0001.\n",
      "Successfully created queries: [advanced_query17_optimized].\n",
      "2022-11-21 14:50:54.174279\tSuccessfully created queries: [advanced_query9_optimized].\n",
      "2022-11-21 14:50:55.100232\tSuccessfully created queries: [advanced_query15_optimized].\n",
      "2022-11-21 14:50:56.314592\tSuccessfully created queries: [advanced_query14_optimized].\n",
      "2022-11-21 14:50:57.209744\tSuccessfully created queries: [advanced_query7_optimized].\n",
      "2022-11-21 14:50:58.301158\tSuccessfully created queries: [advanced_query25_optimized].\n",
      "2022-11-21 14:50:59.323620\tSuccessfully created queries: [advanced_query19_optimized].\n",
      "2022-11-21 14:51:00.234038\tSuccessfully created queries: [advanced_query18_optimized].\n",
      "2022-11-21 14:51:01.212346\tSuccessfully created queries: [advanced_query24_optimized].\n",
      "2022-11-21 14:51:02.357626\tSuccessfully created queries: [advanced_query6_optimized].\n",
      "2022-11-21 14:51:03.302000\tSuccessfully created queries: [advanced_query4_optimized].\n",
      "2022-11-21 14:51:04.165634\tSuccessfully created queries: [advanced_query5_optimized].\n",
      "2022-11-21 14:51:05.936183\tSuccessfully created queries: [advanced_query1_optimized].\n",
      "2022-11-21 14:51:07.029639\tSuccessfully created queries: [advanced_query23_optimized].\n",
      "2022-11-21 14:51:08.199468\tSuccessfully created queries: [advanced_query22_optimized].\n",
      "2022-11-21 14:51:09.260829\tSuccessfully created queries: [advanced_query2_optimized].\n",
      "2022-11-21 14:51:10.343070\tSuccessfully created queries: [advanced_query20_optimized].\n",
      "2022-11-21 14:51:11.497385\tSuccessfully created queries: [advanced_query21_optimized].\n",
      "2022-11-21 14:51:12.391292\tSuccessfully created queries: [advanced_query3_optimized].\n"
     ]
    }
   ],
   "source": [
    "#### create queries\n",
    "log(\"Create GSQL query\")\n",
    "\n",
    "basic_path = data_path + \"queries/gsql/basic\"\n",
    "\n",
    "advanced_path = data_path + \"queries/gsql/advanced\"\n",
    "\n",
    "def createQuery(file_path):\n",
    "    with open(file_path, 'r') as f:\n",
    "        query = f.read()\n",
    "        results = conn.gsql(\"USE GRAPH ldbc_spb\\n\\n\" + query)\n",
    "        log(results)\n",
    "\n",
    "for file in os.listdir(basic_path):\n",
    "    if file.endswith(\".txt\"):\n",
    "        file_path = f\"{basic_path}/{file}\"\n",
    "        createQuery(file_path)\n",
    "        \n",
    "for file in os.listdir(advanced_path):\n",
    "    if file.endswith(\".txt\"):\n",
    "        file_path = f\"{advanced_path}/{file}\"\n",
    "        createQuery(file_path)"
   ]
  },
  {
   "cell_type": "markdown",
   "id": "27bbeb32",
   "metadata": {},
   "source": [
    "### Install all queries "
   ]
  },
  {
   "cell_type": "code",
   "execution_count": 18,
   "id": "c856d121",
   "metadata": {},
   "outputs": [
    {
     "name": "stdout",
     "output_type": "stream",
     "text": [
      "2022-11-21 14:51:12.406214\tInstallig all queries\n",
      "2022-11-21 14:53:04.420861\tUsing graph 'ldbc_spb'\n",
      "Start installing queries, about 1 minute ...\n",
      "advanced_query18_optimized query: curl -X GET 'https://127.0.0.1:9000/query/ldbc_spb/advanced_query18_optimized'. Add -H \"Authorization: Bearer TOKEN\" if authentication is enabled.\n",
      "advanced_query4_optimized query: curl -X GET 'https://127.0.0.1:9000/query/ldbc_spb/advanced_query4_optimized'. Add -H \"Authorization: Bearer TOKEN\" if authentication is enabled.\n",
      "advanced_query24_optimized query: curl -X GET 'https://127.0.0.1:9000/query/ldbc_spb/advanced_query24_optimized'. Add -H \"Authorization: Bearer TOKEN\" if authentication is enabled.\n",
      "advanced_query2_optimized query: curl -X GET 'https://127.0.0.1:9000/query/ldbc_spb/advanced_query2_optimized'. Add -H \"Authorization: Bearer TOKEN\" if authentication is enabled.\n",
      "basic_query4_optimized query: curl -X GET 'https://127.0.0.1:9000/query/ldbc_spb/basic_query4_optimized'. Add -H \"Authorization: Bearer TOKEN\" if authentication is enabled.\n",
      "advanced_query11_optimized query: curl -X GET 'https://127.0.0.1:9000/query/ldbc_spb/advanced_query11_optimized'. Add -H \"Authorization: Bearer TOKEN\" if authentication is enabled.\n",
      "advanced_query13_optimized query: curl -X GET 'https://127.0.0.1:9000/query/ldbc_spb/advanced_query13_optimized'. Add -H \"Authorization: Bearer TOKEN\" if authentication is enabled.\n",
      "basic_query10_optimized query: curl -X GET 'https://127.0.0.1:9000/query/ldbc_spb/basic_query10_optimized'. Add -H \"Authorization: Bearer TOKEN\" if authentication is enabled.\n",
      "advanced_query6_optimized query: curl -X GET 'https://127.0.0.1:9000/query/ldbc_spb/advanced_query6_optimized'. Add -H \"Authorization: Bearer TOKEN\" if authentication is enabled.\n",
      "basic_query6_optimized query: curl -X GET 'https://127.0.0.1:9000/query/ldbc_spb/basic_query6_optimized'. Add -H \"Authorization: Bearer TOKEN\" if authentication is enabled.\n",
      "advanced_query9_optimized query: curl -X GET 'https://127.0.0.1:9000/query/ldbc_spb/advanced_query9_optimized'. Add -H \"Authorization: Bearer TOKEN\" if authentication is enabled.\n",
      "basic_query3_optimized query: curl -X GET 'https://127.0.0.1:9000/query/ldbc_spb/basic_query3_optimized'. Add -H \"Authorization: Bearer TOKEN\" if authentication is enabled.\n",
      "advanced_query14_optimized query: curl -X GET 'https://127.0.0.1:9000/query/ldbc_spb/advanced_query14_optimized'. Add -H \"Authorization: Bearer TOKEN\" if authentication is enabled.\n",
      "advanced_query16_optimized query: curl -X GET 'https://127.0.0.1:9000/query/ldbc_spb/advanced_query16_optimized'. Add -H \"Authorization: Bearer TOKEN\" if authentication is enabled.\n",
      "basic_query8_optimized query: curl -X GET 'https://127.0.0.1:9000/query/ldbc_spb/basic_query8_optimized'. Add -H \"Authorization: Bearer TOKEN\" if authentication is enabled.\n",
      "advanced_query22_optimized query: curl -X GET 'https://127.0.0.1:9000/query/ldbc_spb/advanced_query22_optimized'. Add -H \"Authorization: Bearer TOKEN\" if authentication is enabled.\n",
      "basic_query1_optimized query: curl -X GET 'https://127.0.0.1:9000/query/ldbc_spb/basic_query1_optimized'. Add -H \"Authorization: Bearer TOKEN\" if authentication is enabled.\n",
      "advanced_query25_optimized query: curl -X GET 'https://127.0.0.1:9000/query/ldbc_spb/advanced_query25_optimized'. Add -H \"Authorization: Bearer TOKEN\" if authentication is enabled.\n",
      "advanced_query5_optimized query: curl -X GET 'https://127.0.0.1:9000/query/ldbc_spb/advanced_query5_optimized'. Add -H \"Authorization: Bearer TOKEN\" if authentication is enabled.\n",
      "basic_query7_optimized query: curl -X GET 'https://127.0.0.1:9000/query/ldbc_spb/basic_query7_optimized'. Add -H \"Authorization: Bearer TOKEN\" if authentication is enabled.\n",
      "basic_query5_optimized query: curl -X GET 'https://127.0.0.1:9000/query/ldbc_spb/basic_query5_optimized'. Add -H \"Authorization: Bearer TOKEN\" if authentication is enabled.\n",
      "basic_query11_optimized query: curl -X GET 'https://127.0.0.1:9000/query/ldbc_spb/basic_query11_optimized'. Add -H \"Authorization: Bearer TOKEN\" if authentication is enabled.\n",
      "advanced_query12_optimized query: curl -X GET 'https://127.0.0.1:9000/query/ldbc_spb/advanced_query12_optimized'. Add -H \"Authorization: Bearer TOKEN\" if authentication is enabled.\n",
      "advanced_query7_optimized query: curl -X GET 'https://127.0.0.1:9000/query/ldbc_spb/advanced_query7_optimized'. Add -H \"Authorization: Bearer TOKEN\" if authentication is enabled.\n",
      "advanced_query19_optimized query: curl -X GET 'https://127.0.0.1:9000/query/ldbc_spb/advanced_query19_optimized'. Add -H \"Authorization: Bearer TOKEN\" if authentication is enabled.\n",
      "advanced_query15_optimized query: curl -X GET 'https://127.0.0.1:9000/query/ldbc_spb/advanced_query15_optimized'. Add -H \"Authorization: Bearer TOKEN\" if authentication is enabled.\n",
      "advanced_query20_optimized query: curl -X GET 'https://127.0.0.1:9000/query/ldbc_spb/advanced_query20_optimized'. Add -H \"Authorization: Bearer TOKEN\" if authentication is enabled.\n",
      "basic_query2_optimized query: curl -X GET 'https://127.0.0.1:9000/query/ldbc_spb/basic_query2_optimized'. Add -H \"Authorization: Bearer TOKEN\" if authentication is enabled.\n",
      "basic_query9_optimized query: curl -X GET 'https://127.0.0.1:9000/query/ldbc_spb/basic_query9_optimized'. Add -H \"Authorization: Bearer TOKEN\" if authentication is enabled.\n",
      "advanced_query8_optimized query: curl -X GET 'https://127.0.0.1:9000/query/ldbc_spb/advanced_query8_optimized'. Add -H \"Authorization: Bearer TOKEN\" if authentication is enabled.\n",
      "advanced_query3_optimized query: curl -X GET 'https://127.0.0.1:9000/query/ldbc_spb/advanced_query3_optimized'. Add -H \"Authorization: Bearer TOKEN\" if authentication is enabled.\n",
      "advanced_query10_optimized query: curl -X GET 'https://127.0.0.1:9000/query/ldbc_spb/advanced_query10_optimized'. Add -H \"Authorization: Bearer TOKEN\" if authentication is enabled.\n",
      "advanced_query1_optimized query: curl -X GET 'https://127.0.0.1:9000/query/ldbc_spb/advanced_query1_optimized'. Add -H \"Authorization: Bearer TOKEN\" if authentication is enabled.\n",
      "advanced_query17_optimized query: curl -X GET 'https://127.0.0.1:9000/query/ldbc_spb/advanced_query17_optimized'. Add -H \"Authorization: Bearer TOKEN\" if authentication is enabled.\n",
      "advanced_query23_optimized query: curl -X GET 'https://127.0.0.1:9000/query/ldbc_spb/advanced_query23_optimized'. Add -H \"Authorization: Bearer TOKEN\" if authentication is enabled.\n",
      "advanced_query21_optimized query: curl -X GET 'https://127.0.0.1:9000/query/ldbc_spb/advanced_query21_optimized'. Add -H \"Authorization: Bearer TOKEN\" if authentication is enabled.\n",
      "Select 'm1' as compile server, now connecting ...\n",
      "Node 'm1' is prepared as compile server.\n",
      "\n",
      "Query installation finished.\n"
     ]
    }
   ],
   "source": [
    "# Install queries \n",
    "log(\"Installig all queries\")\n",
    "\n",
    "results = conn.gsql(\"\"\"\n",
    "    USE GRAPH ldbc_spb\n",
    "    INSTALL QUERY ALL\n",
    "\"\"\")\n",
    "\n",
    "log(results)"
   ]
  },
  {
   "cell_type": "markdown",
   "id": "53d159a4",
   "metadata": {},
   "source": [
    "### Run basic queries"
   ]
  },
  {
   "cell_type": "code",
   "execution_count": 19,
   "id": "f59e99aa",
   "metadata": {},
   "outputs": [
    {
     "name": "stdout",
     "output_type": "stream",
     "text": [
      "running 11 basic queries successfully\n"
     ]
    }
   ],
   "source": [
    "#### initialize the parameters and run basic queries\n",
    "\n",
    "# create a dictionary to store the queryname -> runtime pair\n",
    "runtimes = {}\n",
    "\n",
    "# execute 11 basic queries\n",
    "for i in range(1, 12):\n",
    "    starttime = datetime.now()\n",
    "    results = conn.runInstalledQuery(\"basic_query\" + str(i) + \"_optimized\")\n",
    "    endtime = datetime.now()\n",
    "    runtime = endtime - starttime\n",
    "    runtimes[\"basic_query\" + str(i) + \"_optimized\"] = runtime.total_seconds()\n",
    "\n",
    "print(\"running 11 basic queries successfully\")"
   ]
  },
  {
   "cell_type": "markdown",
   "id": "bf6456fa",
   "metadata": {},
   "source": [
    "### Run advanced queries"
   ]
  },
  {
   "cell_type": "code",
   "execution_count": 20,
   "id": "8ecf4fe7",
   "metadata": {},
   "outputs": [
    {
     "name": "stdout",
     "output_type": "stream",
     "text": [
      "running 25 advanced queries successfully\n"
     ]
    }
   ],
   "source": [
    "#### initialize the parameters and run advanced queries\n",
    "\n",
    "# execute 25 advanced queries\n",
    "for i in range(1, 26):\n",
    "\n",
    "    starttime = datetime.now()\n",
    "    results = conn.runInstalledQuery(\"advanced_query\" + str(i) + \"_optimized\")\n",
    "    endtime = datetime.now()  \n",
    "    runtime = endtime - starttime\n",
    "    runtimes[\"advanced_query\" + str(i) + \"_optimized\"] = runtime.total_seconds()\n",
    "\n",
    "print(\"running 25 advanced queries successfully\")"
   ]
  },
  {
   "cell_type": "markdown",
   "id": "92f49f4a",
   "metadata": {},
   "source": [
    "### display execution time of all queries"
   ]
  },
  {
   "cell_type": "code",
   "execution_count": 21,
   "id": "cf974e3e",
   "metadata": {},
   "outputs": [
    {
     "name": "stdout",
     "output_type": "stream",
     "text": [
      "basic_query1_optimized 0.733015\n",
      "basic_query2_optimized 0.632512\n",
      "basic_query3_optimized 0.71657\n",
      "basic_query4_optimized 0.680404\n",
      "basic_query5_optimized 0.69692\n",
      "basic_query6_optimized 1.034583\n",
      "basic_query7_optimized 0.946427\n",
      "basic_query8_optimized 0.734086\n",
      "basic_query9_optimized 0.635203\n",
      "basic_query10_optimized 1.066987\n",
      "basic_query11_optimized 0.648502\n",
      "advanced_query1_optimized 0.703529\n",
      "advanced_query2_optimized 0.641884\n",
      "advanced_query3_optimized 0.666149\n",
      "advanced_query4_optimized 0.677813\n",
      "advanced_query5_optimized 0.69724\n",
      "advanced_query6_optimized 0.836308\n",
      "advanced_query7_optimized 0.679417\n",
      "advanced_query8_optimized 0.654185\n",
      "advanced_query9_optimized 0.650692\n",
      "advanced_query10_optimized 0.687349\n",
      "advanced_query11_optimized 0.637687\n",
      "advanced_query12_optimized 0.640025\n",
      "advanced_query13_optimized 1.308295\n",
      "advanced_query14_optimized 1.236409\n",
      "advanced_query15_optimized 1.083035\n",
      "advanced_query16_optimized 0.991538\n",
      "advanced_query17_optimized 0.933807\n",
      "advanced_query18_optimized 1.072151\n",
      "advanced_query19_optimized 0.674789\n",
      "advanced_query20_optimized 2.297444\n",
      "advanced_query21_optimized 0.730001\n",
      "advanced_query22_optimized 1.057799\n",
      "advanced_query23_optimized 0.87847\n",
      "advanced_query24_optimized 0.636849\n",
      "advanced_query25_optimized 0.659826\n"
     ]
    }
   ],
   "source": [
    "# print out the query performance \n",
    "for x, y in runtimes.items():\n",
    "    print(x, y)"
   ]
  }
 ],
 "metadata": {
  "kernelspec": {
   "display_name": "Python 3 (ipykernel)",
   "language": "python",
   "name": "python3"
  },
  "language_info": {
   "codemirror_mode": {
    "name": "ipython",
    "version": 3
   },
   "file_extension": ".py",
   "mimetype": "text/x-python",
   "name": "python",
   "nbconvert_exporter": "python",
   "pygments_lexer": "ipython3",
   "version": "3.9.6"
  }
 },
 "nbformat": 4,
 "nbformat_minor": 5
}
